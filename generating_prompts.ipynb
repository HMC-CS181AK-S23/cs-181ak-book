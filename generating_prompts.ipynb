{
  "cells": [
    {
      "attachments": {},
      "cell_type": "markdown",
      "metadata": {
        "id": "r3UmCG2magUm"
      },
      "source": [
        "# Generating template PERMs with OpenAI\n",
        "\n",
        "**Team:** Annabelle Teng, Nic Tekieli, Jennifer Granados\n",
        "\n",
        "**Audience:** Our target audience is individuals with basic Python background, specifically students of the 5Cs.\n",
        "\n",
        "**External Libraries Used:** JSON, OpenAI, OS\n",
        "\n",
        "**Vocabulary:**  Introductory data types, basic data structures like lists and dictionaries, loops, if-else statements\n",
        "\n",
        "## Introduction\n",
        "Welcome to learning about how to organize the information you want to share into a single concise PERM using OpenAI's generative text model! In this tutorial, we will build a simple pipeline to creating a user-input pipeline for the correct PERM information and output the corresponding possible PERM text using the OpenAI API.\n",
        "\n",
        "**IMPORTANT NOTE (Prof. Xanda addendum): The goal of this tutorial is to show one way to go from structured information to succinct natural language text, not how to produce false information to submit to instructors. The intent of this tutorial is not to spam or mislead using PERM text.**\n",
        "\n",
        "\n"
      ]
    },
    {
      "cell_type": "markdown",
      "metadata": {
        "id": "xLKYCDrH52kx"
      },
      "source": [
        "## Section 1: Overview\n",
        "We will begin by wanting to figure out what key information is necessary for a user to include in their PERM and recording/obtaining that. Then, we will parse the JSON file for our course description and title. Using all of that information, we will generate a query for our API call, and then make the actual API call."
      ]
    },
    {
      "cell_type": "markdown",
      "metadata": {
        "id": "10gzd1djd324"
      },
      "source": [
        "##Section 2: Taking User Input\n",
        "\n",
        "**What kind of information do we want to include in a PERM? Can you think of a few things that are a must?**\n",
        "\n",
        "Well, for us, we think that some of these would be:\n",
        "*   Class Year\n",
        "*   School\n",
        "*   Course that you're PERMing for\n",
        "*   Whether you meet the pre-requisites\n",
        "*   What your relavant interests and experiences are\n",
        "\n",
        "**Let's try to build our user input:**\n"
      ]
    },
    {
      "cell_type": "markdown",
      "metadata": {
        "id": "lwMWGJK3sMDO"
      },
      "source": [
        "Let's start with a super bare-bones version of what kind of input we would expect. Let's start by getting class year!"
      ]
    },
    {
      "cell_type": "code",
      "execution_count": null,
      "metadata": {
        "id": "N0DU2cVNr2ju"
      },
      "outputs": [],
      "source": [
        "def userInput():\n",
        "  '''\n",
        "  Take in user input on class year\n",
        "  '''\n",
        "\n",
        "  # First, give the student options on class years\n",
        "  studentYear = int(input(\"What year are you currently in? (1/2/3/4)\"))\n",
        "  return studentYear"
      ]
    },
    {
      "cell_type": "markdown",
      "metadata": {
        "id": "OtWXuxrT2LWe"
      },
      "source": [
        "Now, let's make sure our user is inputting in a valid school year."
      ]
    },
    {
      "cell_type": "code",
      "execution_count": null,
      "metadata": {
        "id": "IyStwzz-2Z-T"
      },
      "outputs": [],
      "source": [
        "def userInput():\n",
        "  '''\n",
        "  Take in user input on class year\n",
        "  '''\n",
        "\n",
        "  # First, give the student options on class years\n",
        "  studentYear = int(input(\"What year are you currently in? (1/2/3/4)\"))\n",
        "  years = [1, 2, 3, 4]\n",
        "  while studentYear not in years:\n",
        "    studentYear = int(input(\"Sorry, I think you typed an invalid school year! What year are you? (1/2/3/4)\"))\n",
        "\n",
        "  return studentYear\n"
      ]
    },
    {
      "cell_type": "markdown",
      "metadata": {
        "id": "DBLpN7y32pb2"
      },
      "source": [
        "Usually though, when people describe what year they're in, they say \"Oh, I'm a junior!\" or something. Let's add in a piece so that instead of returning 3 for the year, we can return that they're a junior."
      ]
    },
    {
      "cell_type": "code",
      "execution_count": null,
      "metadata": {
        "id": "IlntYYtq3Xic"
      },
      "outputs": [],
      "source": [
        "def userInput():\n",
        "  '''\n",
        "  Take in user input on: class year, school, pre-requisites, relevant interests and experience!\n",
        "  '''\n",
        "\n",
        "  # First, give the student options on class years\n",
        "  studentYear = int(input(\"What year are you currently in? (1/2/3/4)\"))\n",
        "\n",
        "\n",
        "  # let's make sure that our user is entering a valid year by checking it\n",
        "  years = {1:'freshman', 2: 'sophomore', 3:'junior', 4:'senior'}\n",
        "\n",
        "  while studentYear not in years.keys():\n",
        "    studentYear = int(input(\"Sorry, I think you typed an invalid school year! What year are you? (1/2/3/4)\"))\n",
        "\n",
        "  # Now, save this as a string for their current year + return it!\n",
        "  studentYear = 'current' + years[studentYear]\n",
        "  return studentYear"
      ]
    },
    {
      "cell_type": "markdown",
      "metadata": {
        "id": "C_Q0oYa9t-BN"
      },
      "source": [
        "Looks good!\n",
        "\n",
        "**Your Turn**: Try and expand on this function with some other things about the user that would be necessary for PERM writing.\n"
      ]
    },
    {
      "cell_type": "code",
      "execution_count": null,
      "metadata": {
        "id": "De43FKmrgm0m"
      },
      "outputs": [],
      "source": [
        "# take in user input using input()\n",
        "\n",
        "# Things to keep in mind:\n",
        "  # the user could type things in wrong, so make sure to allow them to retype if they made a mistake!\n",
        "  # the user has to go to the 5Cs otherwise, we wouldn't know what is covered in that class based on our data!\n",
        "\n",
        "\n",
        "def userInput():\n",
        "  '''\n",
        "  Take in user input on: class year, school, pre-requisites, relevant interests and experience!\n",
        "  '''\n",
        "\n",
        "  # First, give the student options on class years\n",
        "  studentYear = int(input(\"What year are you currently in? (1/2/3/4)\"))\n",
        "\n",
        "\n",
        "  # let's make sure that our user is entering a valid year by checking it\n",
        "  years = {1:'freshman', 2: 'sophomore', 3:'junior', 4:'senior'}\n",
        "  while studentYear not in years.keys():\n",
        "    studentYear = int(input(\"Sorry, I think you typed an invalid school year! What year are you? (1/2/3/4)\"))\n",
        "\n",
        "  # Now, save this as a string for their current year + return it!\n",
        "  studentYear = 'current' + years[studentYear]\n",
        "  return studentYear\n",
        "\n",
        "  # TODO: Ask our user what school they go to and give them the 5Cs as options!\n",
        "\n",
        "\n",
        "  # Add more things!"
      ]
    },
    {
      "attachments": {},
      "cell_type": "markdown",
      "metadata": {
        "id": "PneBm0Eg0yj9"
      },
      "source": [
        "### Our Version\n",
        "\n",
        "If you were curious, this is how we decided to take in some things we thought were important."
      ]
    },
    {
      "cell_type": "code",
      "execution_count": null,
      "metadata": {
        "id": "-p4JhNPkX6mr"
      },
      "outputs": [],
      "source": [
        "def userInput():\n",
        "\n",
        "  # taking in user input\n",
        "  # Course Code, Prerequisites, Year, School, Previous experience/interests!\n",
        "\n",
        "  # Course Code\n",
        "  print(\"What's the course code for the course you would like to generate a PERM for?\")\n",
        "  courseCode = input(\"Type it in the format similar to: CSCI 181AK HM (meaning with white space in between and excluding any section numbers like \\\"-1\\\") \")\n",
        "\n",
        "  #Pre-requisties\n",
        "  preReqsExist = input(\"Are there pre-requisites for this course? (Y/N) \")\n",
        "  while preReqsExist.lower() not in ('y', 'n'):\n",
        "    preReqsExist = input(\"Sorry that is not a valid input. Are there pre-requisites for this course? (Y/N) \")\n",
        "\n",
        "  # if pre-reqs exist we want to know if user has met the requirements\n",
        "  if preReqsExist.lower() == 'y':\n",
        "      preReqsMet = input(\"Have you met the pre-requesites? (Y/N) \")\n",
        "      while preReqsMet.lower() not in ('y', 'n'):\n",
        "        preReqsMet = input(\"Sorry that is not a valid input. Have you met the pre-requesites? (Y/N) \")\n",
        "      preReqsMet = preReqsMet.lower() == \"y\"\n",
        "  else:\n",
        "    preReqsMet = \"y\"\n",
        "\n",
        "  # Student Year\n",
        "  years = {1:'freshman', 2: 'sophomore', 3:'junior', 4:'senior'}\n",
        "  studentYear = int(input(\"What year are you currently? (1/2/3/4)\"))\n",
        "  while studentYear not in years.keys():\n",
        "    studentYear = int(input(\"Sorry, I think you typed an invalid school year! What year are you? (1/2/3/4)\"))\n",
        "  studentYear = 'current' + years[studentYear]\n",
        "\n",
        "  #School\n",
        "  school = input(\"What school do you attend? (CMC, PO, HMC, PZ, SC) \")\n",
        "  while school.upper() not in (\"CMC\", \"PO\", \"HMC\", \"PZ\", \"SC\"):\n",
        "    school = input(\"Sorry, you typed an invalid school name! Your options are CMC, PO, HMC, PZ, SC. \")\n",
        "\n",
        "  #Experience/Interests\n",
        "  expDescription = input(\"What experience/interests do you have that might be relevant? This could be classes you've taken that are related or just some specific aspect that interests you!\")\n",
        "  return courseCode, preReqsExist, preReqsMet,  studentYear, school, expDescription\n"
      ]
    },
    {
      "cell_type": "markdown",
      "metadata": {
        "id": "XArKFd6V3jo6"
      },
      "source": [
        "Let's run it!"
      ]
    },
    {
      "cell_type": "code",
      "execution_count": null,
      "metadata": {
        "colab": {
          "base_uri": "https://localhost:8080/"
        },
        "id": "0RWPvpiulA_u",
        "outputId": "4503f50c-ee00-4cf7-8445-6caa3b943d7a"
      },
      "outputs": [
        {
          "name": "stdout",
          "output_type": "stream",
          "text": [
            "What's the course code for the course you would like to generate a PERM for?\n",
            "Type it in the format similar to: CSCI 181AK HM (meaning with white space in between and excluding any section numbers like \"-1\") CSCI 181 AK HM\n",
            "Are there pre-requisites for this course? (Y/N) Y\n",
            "Have you met the pre-requesites? (Y/N) Y\n",
            "What year are you? (1/2/3/4)7\n",
            "dict_keys([1, 2, 3, 4])\n",
            "Sorry, I think you typed an invalid school year! What year are you? (1/2/3/4)3\n",
            "What school do you attend? (CMC, PO, HMC, PZ, SC) PZ\n",
            "What experience/interests do you have that might be relevant? Data Structures\n"
          ]
        }
      ],
      "source": [
        "courseCode, preReqsExist, preReqsMet,  studentYear, school, expDescription = userInput()"
      ]
    },
    {
      "cell_type": "markdown",
      "metadata": {
        "id": "qtLzawQEeFGa"
      },
      "source": [
        "## Section 3: JSON and Parsing"
      ]
    },
    {
      "cell_type": "markdown",
      "metadata": {
        "id": "K33L1BLsvznw"
      },
      "source": [
        "Now that we've gotten user input, let's move onto the next part!"
      ]
    },
    {
      "cell_type": "markdown",
      "metadata": {
        "id": "5FULPgxQGdV_"
      },
      "source": [
        "### 3.1 Download Hyperschedule Data\n",
        "Now that we have the course code, we need to know what the course description is in order to determine which of our user's interests should be emphasized. In order to do that, we can use the course code and the static Hyperschedule data!\n",
        "\n",
        "First, download the data from this [link](https://drive.google.com/file/d/1eVh1TnzvHP7_DUVhjR0VNkZbblXijuic/view) and upload the file to the same directory as this notebook."
      ]
    },
    {
      "cell_type": "markdown",
      "metadata": {
        "id": "lI0S-gKj1uah"
      },
      "source": [
        "### 3.2 Exploring JSONs\n",
        "\n",
        "Our Hyperschedule data is all in a JSON file. A [JSON](https://www.w3schools.com/js/js_json_intro.asp) (JavaScript Object Notation) file stores data in key-value pairs and arrays which allows for human-readable code, with the keys (strings) serving as names and the values (strings, numbers, arrays, etc.) containing related data.\n",
        "\n",
        "But how do we find the course description from this? We can use the json library and take a look!"
      ]
    },
    {
      "cell_type": "code",
      "execution_count": null,
      "metadata": {
        "id": "rHOwvmGl2ccq"
      },
      "outputs": [],
      "source": [
        "import json"
      ]
    },
    {
      "cell_type": "markdown",
      "metadata": {
        "id": "jliyvfTx2i6E"
      },
      "source": [
        "The first step to dealing with any type of file is by first opening the file!\n",
        "\n",
        "Here's how you would open a JSON file:"
      ]
    },
    {
      "cell_type": "code",
      "execution_count": null,
      "metadata": {
        "id": "Ge5jKwfU2qDb"
      },
      "outputs": [],
      "source": [
        "# default encoding is 'utf-8', but this JSON file takes a different encoding\n",
        "with open('courses.json', 'r', encoding='ISO-8859-1') as file:\n",
        "    courses = json.load(file)"
      ]
    },
    {
      "cell_type": "markdown",
      "metadata": {
        "id": "MslW3OGJ24vm"
      },
      "source": [
        "Basically we want to *open* our <u>courses.json</u> file and *read* it (using 'r') as a *file*. Don't worry too much about the *encoding* aspect of it and just trust that it's the right one for this file.\n",
        "\n",
        "Open the file and explore it a little! Make sure to pay attention to how information is stored inside this file! JSON files are really similar to dictionaries, and function the same way. Make sure you know how to navigate through a dictionary, and you'll know how to navigate through a JSON! That is, the information is formatted as  ```\"key\": \"value\"``` and lots of things are imbedded using the brackets ```{}```.\n",
        "\n",
        "Oh wait, what was our point of opening it up? Right, to find the course description! Notice that all the items in this JSON file are stored through a key that is their course title! So, we should make sure we can find information through our course code!\n",
        "\n",
        "Let's make sure that we can access the course code as a dictionary, because the keys in the JSON are dictionaries!"
      ]
    },
    {
      "cell_type": "markdown",
      "metadata": {
        "id": "q_lkyatm40V-"
      },
      "source": [
        "### 3.3 Formatting course code"
      ]
    },
    {
      "cell_type": "markdown",
      "metadata": {
        "id": "MybhdTy5wFCn"
      },
      "source": [
        "Let's start by trying to get the department based off of the course code! Start by splitting the course code into pieces based off of the spaces."
      ]
    },
    {
      "cell_type": "code",
      "execution_count": null,
      "metadata": {
        "id": "tobW6EPP3o9m"
      },
      "outputs": [],
      "source": [
        "# Now, Let's start by parsing our course code!\n",
        "\n",
        "def format_course_code(course_code):\n",
        "    \"\"\" Format a course code string into a dictionary\n",
        "        Input: A string the course code\n",
        "        Output: A dictionary with the course code formatted\"\"\"\n",
        "    # split the code string based off of where there's spaces\n",
        "    parts = course_code.split()"
      ]
    },
    {
      "cell_type": "markdown",
      "metadata": {
        "id": "N279TkNs32TM"
      },
      "source": [
        "Great! Now that we can see the parts, let's save them and return them!"
      ]
    },
    {
      "cell_type": "code",
      "execution_count": null,
      "metadata": {
        "id": "TjqC77R0wK4i"
      },
      "outputs": [],
      "source": [
        "# Now, Let's start by parsing our course code!\n",
        "\n",
        "def format_course_code(course_code):\n",
        "    \"\"\" Format a course code string into a dictionary\n",
        "        Input: A string the course code\n",
        "        Output: A dictionary with the course code formatted\"\"\"\n",
        "    # split the code string based off of where there's spaces\n",
        "    parts = course_code.split()\n",
        "\n",
        "    # Save the different parts\n",
        "    department = parts[0]\n",
        "    course_number_and_suffix = parts[1]\n",
        "    affiliation = parts[2]\n",
        "\n",
        "    return department, course_number_and_suffix, affiliation"
      ]
    },
    {
      "cell_type": "markdown",
      "metadata": {
        "id": "DQ-Zbp6_xDUh"
      },
      "source": [
        "Great! However, based on the JSON, it looks like classes are stored underneath keys that are dictionaries.\n",
        "For example, CSCI 181AK HM is stored under the key:\n",
        "\n",
        "`{'department': 'CSCI', 'courseNumber': 181, 'suffix': 'AK', 'affiliation': 'HM'}`\n",
        "\n",
        "If we search using our current variables,`department, course_number, affiliation`, our code would involve a lot of matching.\n",
        "So, we have to make sure that we're saving course codes similarly in a dictionary format.\n"
      ]
    },
    {
      "cell_type": "markdown",
      "metadata": {
        "id": "-4fwqLogwlc1"
      },
      "source": [
        "**Your Turn**: Try expanding this to save the same variables in a dictionary."
      ]
    },
    {
      "cell_type": "code",
      "execution_count": null,
      "metadata": {
        "id": "D-CUjpk45sWg"
      },
      "outputs": [],
      "source": [
        "def format_code(course_code):\n",
        "    \"\"\" Format a course code string into a dictionary\n",
        "        Input: A string the course code\n",
        "        Output: A dictionary with the course code formatted\"\"\"\n",
        "    # split the code string based off of where there's spaces\n",
        "    parts = course_code.split()\n",
        "\n",
        "    # The first part is the department so let's get that!\n",
        "    department = parts[0]\n",
        "\n",
        "    # Get course number and suffix\n",
        "    # TODO: Separate the course number and the suffix because that's how they are in the JSON!\n",
        "    course_number_and_suffix = parts[1]\n",
        "\n",
        "    # Get affiliation\n",
        "    affiliation = parts[2]\n",
        "\n",
        "    # TODO: Save as a dictionary!"
      ]
    },
    {
      "cell_type": "markdown",
      "metadata": {
        "id": "solJ2PAT6MNY"
      },
      "source": [
        "#### Our Version\n",
        "\n",
        "This is how we did it! You don't have to do it exactly like this, but something to this effect would be good!"
      ]
    },
    {
      "cell_type": "code",
      "execution_count": null,
      "metadata": {
        "id": "X7g0gW-wYM-F"
      },
      "outputs": [],
      "source": [
        "# Now, Let's start by parsing our course code!\n",
        "\n",
        "def format_course_code(course_code):\n",
        "    \"\"\" Format a course code string into a dictionary\n",
        "        Input: A string the course code\n",
        "        Output: A dictionary with the course code formatted\"\"\"\n",
        "    # split the code string into its three parts (department, course number and suffix, affiliation)\n",
        "    parts = course_code.split()\n",
        "\n",
        "    # Get department\n",
        "    department = parts[0]\n",
        "\n",
        "    # Get course number and suffix\n",
        "    course_number_and_suffix = parts[1]\n",
        "\n",
        "    number = \"\"\n",
        "    suffix = \"\"\n",
        "    numbers = [\"0\",\"1\",\"2\",\"3\",\"4\",\"5\",\"6\",\"7\",\"8\",\"9\"]\n",
        "    for character in course_number_and_suffix:\n",
        "        if character in numbers:\n",
        "            number += character\n",
        "        else:\n",
        "            suffix += character\n",
        "    number = int(number)\n",
        "\n",
        "    # Fet affiliation\n",
        "    affiliation = parts[2]\n",
        "\n",
        "    # Return the formatted code as a dictionary\n",
        "    return {\n",
        "        'department': department,\n",
        "        'courseNumber': number,\n",
        "        'suffix': suffix,\n",
        "        'affiliation': affiliation\n",
        "    }"
      ]
    },
    {
      "cell_type": "markdown",
      "metadata": {
        "id": "iSqhSS0czTVC"
      },
      "source": [
        "Great! Now let's combine both of these functions:\n",
        "  1. Format the course code: (Ex: CSCI 181AK HM)\n",
        "  2. Return it as a dictionary:\n",
        "`{'department': 'CSCI', 'courseNumber': 181, 'suffix': 'AK', 'affiliation': 'HM'}`"
      ]
    },
    {
      "cell_type": "code",
      "execution_count": null,
      "metadata": {
        "colab": {
          "base_uri": "https://localhost:8080/"
        },
        "id": "nN6aRz9qYVOp",
        "outputId": "ff81fb3d-705b-4159-eb57-8a65b967c286"
      },
      "outputs": [
        {
          "name": "stdout",
          "output_type": "stream",
          "text": [
            "CSCI 181AK HM :  {'department': 'CSCI', 'courseNumber': 181, 'suffix': 'AK', 'affiliation': 'HM'}\n"
          ]
        }
      ],
      "source": [
        "# formatting the course code string into a dictionary\n",
        "formatted_code = format_course_code(courseCode)\n",
        "\n",
        "# When we have all of our course info in a dictionary, we know what part of our course code is associated with what!\n",
        "# This makes it so we can easily find our course in the JSON file!\n",
        "print(courseCode,\": \", formatted_code)"
      ]
    },
    {
      "cell_type": "markdown",
      "metadata": {
        "id": "S-4HGKvj6neT"
      },
      "source": [
        "Great job with that function! Now it's time to put this dictionary into use by finding the course title and description!\n",
        "\n",
        "The basic steps will be: opening the file, finding the course, then returning the right value!"
      ]
    },
    {
      "attachments": {},
      "cell_type": "markdown",
      "metadata": {
        "id": "w0ZZXXf9eOx2"
      },
      "source": [
        "### 3.4 Obtain course title and description"
      ]
    },
    {
      "cell_type": "markdown",
      "metadata": {
        "id": "0j4rvKouz2OE"
      },
      "source": [
        "Let's start by first getting our course title based off of our course code!"
      ]
    },
    {
      "cell_type": "code",
      "execution_count": null,
      "metadata": {
        "id": "1Qbercdk7M5G"
      },
      "outputs": [],
      "source": [
        "def get_title(code):\n",
        "    \"\"\"Input: A dictionary with the course code\n",
        "        Output: A string with the course title and a string with course description\"\"\"\n",
        "    # Open the JSON file and load it\n",
        "    with open('courses.json', 'r', encoding='ISO-8859-1') as file:\n",
        "        courses = json.load(file)\n",
        "    courseTitle = \"\"\n",
        "\n",
        "    # Loop through this file + use boolean operators to check if you've reached a course with the same code\n",
        "    for course in courses:\n",
        "        # if course code matches to input then print title\n",
        "        if course['course']['code'] == code:\n",
        "            return course['course']['title']"
      ]
    },
    {
      "cell_type": "markdown",
      "metadata": {
        "id": "QoUEipvG0Xhw"
      },
      "source": [
        "**Your Turn**: Great! Now, we can expand on this to get other information. Similarly, we can get the course description!\n",
        "\n",
        "**Tip**: To make your function even better, consider what happens if the user inputted a course code for a class that wasn't being offered this semester. Would it just crash?"
      ]
    },
    {
      "cell_type": "code",
      "execution_count": null,
      "metadata": {
        "id": "xw9wFDiJ0yj8"
      },
      "outputs": [],
      "source": [
        "def get_title(code):\n",
        "    \"\"\"Input: A dictionary with the course code\n",
        "        Output: A string with the course title and a string with course description\"\"\"\n",
        "    # Open the JSON file and load it\n",
        "    with open('courses.json', 'r', encoding='ISO-8859-1') as file:\n",
        "        courses = json.load(file)\n",
        "    courseTitle = \"\"\n",
        "\n",
        "    # Loop through this file + use boolean operators to check if you've reached a course with the same code\n",
        "    for course in courses:\n",
        "        # TODO:  get all information here! Take a look at what information is available first!\n",
        "        print(course)\n",
        "\n",
        "    # What happens if the course code isn't found?"
      ]
    },
    {
      "cell_type": "markdown",
      "metadata": {
        "id": "AV1H2JOd7Oq9"
      },
      "source": [
        "#### Our Version\n",
        "\n",
        "Great! Feel free to take a look at what we did!"
      ]
    },
    {
      "cell_type": "code",
      "execution_count": null,
      "metadata": {
        "id": "vj-tX7WJYon5"
      },
      "outputs": [],
      "source": [
        "import json\n",
        "\n",
        "# Now that we have our course code formatted the way need it to be, we can use it to\n",
        "# find the title and description associated with that course code!\n",
        "\n",
        "def get_title_and_description(code):\n",
        "    \"\"\"Input: A dictionary with the course code\n",
        "        Output: A string with the course title and a string with course description\"\"\"\n",
        "\n",
        "    # make JSON file into a dictionary\n",
        "    # default encoding is 'utf-8', but this JSON file takes a different encoding\n",
        "    with open('courses.json', 'r', encoding='ISO-8859-1') as file:\n",
        "        courses = json.load(file)\n",
        "\n",
        "    courseTitle = \"\"\n",
        "    # loop through all courses\n",
        "    for course in courses:\n",
        "        # if course code matches to input then print title\n",
        "        if course['course']['code'] == code:\n",
        "            courseTitle = course['course']['title']\n",
        "            courseDescription = course['course']['description']\n",
        "\n",
        "    # course code is not found\n",
        "    if courseTitle == \"\" or courseDescription == \"\":\n",
        "      return \"Course code not valid\"\n",
        "\n",
        "    return courseTitle, courseDescription"
      ]
    },
    {
      "cell_type": "markdown",
      "metadata": {
        "id": "UbpMF9Tb1XR-"
      },
      "source": [
        "Now, let's put our pieces together.\n",
        "\n",
        "  1. Format the course code: (Ex: CSCI 181AK HM)\n",
        "  2. Return it as a dictionary:\n",
        "`{'department': 'CSCI', 'courseNumber': 181, 'suffix': 'AK', 'affiliation': 'HM'}`\n",
        "  3. Return title and description."
      ]
    },
    {
      "cell_type": "code",
      "execution_count": null,
      "metadata": {
        "colab": {
          "base_uri": "https://localhost:8080/"
        },
        "id": "_Nrbc7X_Z7HF",
        "outputId": "96a37b90-ecc5-4c9e-cd24-d015aada1f04"
      },
      "outputs": [
        {
          "name": "stdout",
          "output_type": "stream",
          "text": [
            "Computing Together :  This course dives into the technical and professional skills necessary to plan, execute, document, and present computational projects beyond a classroom. A central focus of the course is a team-based project to develop a tutorial for an existing software tool or API. A variety of exercises will help explore and build literacy in common tools and workflows in a professional computing environment. Additionally, students will discuss human-human interactions around negotiation, conflict management, peer review of both code and written work, and ethical decision making. Prerequisite: Computer Science 70.\n"
          ]
        }
      ],
      "source": [
        "formatted_code = format_course_code(courseCode)\n",
        "courseTitle, courseDescription = get_title_and_description(formatted_code)\n",
        "print(courseTitle, \": \", courseDescription)"
      ]
    },
    {
      "cell_type": "markdown",
      "metadata": {
        "id": "00aW7U86XQq3"
      },
      "source": [
        "## Section 4: API Usage\n",
        "\n",
        "Great! Now let's get into the second part of this tutorial!\n",
        "\n",
        "[APIs](https://blog.hubspot.com/website/application-programming-interface-api#what-are-APIs) are short for: Application programming interfaces. It's essentially a way for people to access information without actually needing to know how it works. In a super simple way, you can think of it as an interaction between a person and a store: a person orders something on the menu, and the store will then go get them what they asked for.\n",
        "\n",
        "Something that is important to keep in mind is that we have to ask in a certain way: just like you have to order something using the name its given on the menu.\n",
        "\n",
        "In this tutorial, we'll be using an API from [OpenAI](https://openai.com/), an artificial intelligence company. It's a super powerful text generative AI that accepts natural language as an input. It essentially takes \"your order\". In order to successfully call the API, we need to have something we are asking it to do, which is our query. Imagine that you're at a frozen yogurt place and you need to pick your toppings for your order! It's similar in that we will put together the pieces that we've already found in order to put together a query."
      ]
    },
    {
      "attachments": {},
      "cell_type": "markdown",
      "metadata": {
        "id": "0FPa1vTg7iDU"
      },
      "source": [
        "### Section 4.1 : Generate PERM Query"
      ]
    },
    {
      "cell_type": "markdown",
      "metadata": {
        "id": "Xlozx5jw7qIq"
      },
      "source": [
        "Great! Now we have all the vital information that we need to write a basic PERM! How do you usually write your PERMs?\n",
        "\n",
        "We usually say something along these lines:\n",
        "Hi! I'm a `____` year student at `____` interested in taking your course! I have experience with `____` and am interested in learning `____`. I'm particularily interested in learning about `____` so I would love to have the opportunity to take this course!"
      ]
    },
    {
      "cell_type": "markdown",
      "metadata": {
        "id": "6algi6nw745q"
      },
      "source": [
        "A query refers to a user's request for information or action, expressed in natural language. The goal of Natural Language Process ([NLP](https://www.ibm.com/topics/natural-language-processing)) queries is to extract meaning from the user's input and provide relevant results based on that input.\n",
        "\n",
        "NLP queries can take various forms, including search queries, voice commands, and chatbot interactions. Regardless of the form, the process of understanding a query involves several steps. First, the query must be segmented into individual words or phrases, a process known as tokenization. Next, the meaning of each word or phrase is determined, a process known as parsing. Finally, the meaning of the entire query is inferred, taking into account context, ambiguity, and other factors.\n",
        "\n",
        "How would you convey this using the information we have? Write a query that generates a way to ask this to OpenAi's language model!"
      ]
    },
    {
      "cell_type": "markdown",
      "metadata": {
        "id": "bs1p3Zn55APL"
      },
      "source": [
        "**PS:** You can do this with a f-string! An f-string is something that essentially lets you substitute in your variable into a string. For example, if I wanted to say: `Bob` went to the store, and replace `Bob` with a name from the user each time, I could use an f-string."
      ]
    },
    {
      "cell_type": "markdown",
      "metadata": {
        "id": "E6d5sqtg5jWs"
      },
      "source": [
        "First, make sure we have the variable value."
      ]
    },
    {
      "cell_type": "code",
      "execution_count": null,
      "metadata": {
        "colab": {
          "base_uri": "https://localhost:8080/"
        },
        "id": "IvSmy6vO5edS",
        "outputId": "c55118ba-2a68-4c64-e8ca-983c6cd07458"
      },
      "outputs": [
        {
          "name": "stdout",
          "output_type": "stream",
          "text": [
            "Who went to the store? Prof. Xanda\n"
          ]
        }
      ],
      "source": [
        "name = input(\"Who went to the store? \")"
      ]
    },
    {
      "cell_type": "markdown",
      "metadata": {
        "id": "6Vfk7Sgy5mt7"
      },
      "source": [
        "Now, let's incorporate it into a simple string using an `f` outside of the string!"
      ]
    },
    {
      "cell_type": "code",
      "execution_count": null,
      "metadata": {
        "colab": {
          "base_uri": "https://localhost:8080/"
        },
        "id": "rQO1T2Qr5zF_",
        "outputId": "113f66b8-32c4-47d6-deb9-c2a01cc799e6"
      },
      "outputs": [
        {
          "name": "stdout",
          "output_type": "stream",
          "text": [
            "Prof. Xanda went to the store.\n"
          ]
        }
      ],
      "source": [
        "print(f\"{name} went to the store.\")"
      ]
    },
    {
      "cell_type": "markdown",
      "metadata": {
        "id": "RJrlkNmT50df"
      },
      "source": [
        "Great! Now, let's use it to write a little query!"
      ]
    },
    {
      "cell_type": "code",
      "execution_count": null,
      "metadata": {
        "id": "QD9r3TGl4fKC"
      },
      "outputs": [],
      "source": [
        "# Simple Example\n",
        "queryText = (f\"Can you explain I should be allowed to enroll for {courseTitle}.\")"
      ]
    },
    {
      "cell_type": "markdown",
      "metadata": {
        "id": "U027ZHXP4xEG"
      },
      "source": [
        "That's definitely a start! But that's not nearly enough information for a PERM! We want to know what class year the student is, their school, what type of class it is, etc."
      ]
    },
    {
      "cell_type": "markdown",
      "metadata": {
        "id": "ZGZ9AX9V49He"
      },
      "source": [
        "You can play around with this until you get a pretty descriptive request."
      ]
    },
    {
      "cell_type": "code",
      "execution_count": null,
      "metadata": {
        "id": "Gq5JyHZQYv6C"
      },
      "outputs": [],
      "source": [
        "# Tip: If there are pre-requisities for the course and you meet them, make sure you say that!\n",
        "queryText = \"Replace with your query!\"\n",
        "\n",
        "print(queryText)"
      ]
    },
    {
      "cell_type": "markdown",
      "metadata": {
        "id": "1ZRryZ9y6J_3"
      },
      "source": [
        "Here's what one could look like!"
      ]
    },
    {
      "cell_type": "code",
      "execution_count": null,
      "metadata": {
        "id": "1btjwEjf6MyX"
      },
      "outputs": [],
      "source": [
        "queryText = (f\"Can you write me an explaination as to why \\\n",
        "I should be allowed to enroll for {courseTitle}.\\\n",
        " This course is described as \\\"{courseDescription}\\\". I am a {studentYear}\\\n",
        " at {school.upper()} with the following experience: {expDescription}. \\\n",
        " Please keep the output length around 250 characters max.\")\n",
        "\n",
        "# Only mention prerequisites in our query in there are prerequisites!\n",
        "if preReqsMet == 'y':\n",
        "    queryText += (\"Please mention that I meet the pre-requisities for the course.\")"
      ]
    },
    {
      "cell_type": "markdown",
      "metadata": {
        "id": "slWEzOsk9t40"
      },
      "source": [
        "### Section 4.2 : Calling the OpenAI API\n",
        "\n",
        "The OpenAI API is a way for developers to access the capabilities of OpenAI's language models and by using the API, developers can integrate natural language processing and generation into their applications without having to build their own models from scratch.\n",
        "\n",
        "Let's dive deeper into how you can use the OpenAI API to integrate natural language processing and generation into their applications.\n",
        "\n",
        "> Indented block\n",
        "\n"
      ]
    },
    {
      "cell_type": "markdown",
      "metadata": {
        "id": "ow2HrXWQBLqh"
      },
      "source": [
        "First, we will need to obtain an OpenAI API token. OpenAI's API tokens are unique authentication keys provided to developers and users to access OpenAI's API services. These tokens allow you to make requests to OpenAI's API, enabling you to access various AI models for tasks such as text completion, translation, and summarization, among others. The tokens also help track your usage and ensure you stay within the limits of your subscription plan.\n",
        "\n",
        "To obtain a token, go to https://platform.openai.com/account/api-keys. If you already have an account, you will be able to set up a new key for yourself. Otherwise, create a new account and then follow the intructions to gain access to the API.\n",
        "\n",
        "Once this is done, you can then authenticate your OpenAI requests."
      ]
    },
    {
      "cell_type": "code",
      "execution_count": null,
      "metadata": {
        "id": "BIjzURVS_IO9"
      },
      "outputs": [],
      "source": [
        "# Replace 'your_key' with your actual OpenAI API key\n",
        "openai.api_key = 'your_key'"
      ]
    },
    {
      "cell_type": "markdown",
      "metadata": {
        "id": "oWlg6IvX-nSw"
      },
      "source": [
        "Let's take a look at how to use the OpenAI API in Python. We'll need to install the openai library first:"
      ]
    },
    {
      "cell_type": "code",
      "execution_count": null,
      "metadata": {
        "id": "mJl4rJ9Iceam"
      },
      "outputs": [],
      "source": [
        "# Start by installing the library that we need for this!\n",
        "!pip install openai"
      ]
    },
    {
      "cell_type": "markdown",
      "metadata": {
        "id": "O5IGwtwxw7yv"
      },
      "source": [
        "Then, make a request to the Text-Davinci-002 model to generate text. This specific model is the second version of the Text-Davinci model, and it was trained on a massive corpus of text data using unsupervised learning techniques. It is a deep learning model that is capable of generating human-like text that is difficult to distinguish from text written by a human.\n",
        "\n",
        "The response from the API is a JSON object that contains a list of choices that the model generated. In this example, we take the first choice and extract the generated text from it.\n",
        "\n",
        "Let's first step through this example block of code and examine the components of generating responses."
      ]
    },
    {
      "cell_type": "code",
      "execution_count": null,
      "metadata": {
        "id": "DGXdpoftyAUL"
      },
      "outputs": [],
      "source": [
        "# import the openai library\n",
        "import openai\n",
        "\n",
        "# set the API key\n",
        "openai.api_key = \"EXAMPLE_API_KEY\"\n",
        "\n",
        "# set the prompt\n",
        "prompt = \"Explain APIs in one sentence\"\n",
        "\n",
        "# set the model\n",
        "model = \"text-davinci-002\"\n",
        "\n",
        "# generate text using the API\n",
        "response = openai.Completion.create(\n",
        "    engine=model,\n",
        "    prompt=prompt,\n",
        "    max_tokens=50, # specifies maximum number of tokens (words) that the model should generate\n",
        "    temperature=0.7\n",
        ")\n",
        "\n",
        "# extract the generated text from the API response\n",
        "generated_text = response.choices[0].text\n",
        "\n",
        "# print the generated text\n",
        "print(generated_text)"
      ]
    },
    {
      "cell_type": "markdown",
      "metadata": {
        "id": "5GIshMNf_3rp"
      },
      "source": [
        "This line defines the prompt variable, which holds the text that will be used as input for the OpenAI model. The model will use this prompt to generate a response. In this case, the prompt is asking for a one-sentence explanation of APIs."
      ]
    },
    {
      "cell_type": "code",
      "execution_count": null,
      "metadata": {
        "id": "fOFMF7qM_2UU"
      },
      "outputs": [],
      "source": [
        "prompt = \"Explain APIs in one sentence\""
      ]
    },
    {
      "cell_type": "markdown",
      "metadata": {
        "id": "oqs-y1otAHiJ"
      },
      "source": [
        "This line defines the model variable, which specifies the name of the OpenAI model that will be used to generate the response. In this example, we are using the \"text-davinci-002\" model, which is one of OpenAI's advanced language models."
      ]
    },
    {
      "cell_type": "code",
      "execution_count": null,
      "metadata": {
        "id": "C_lM_Em7AJaO"
      },
      "outputs": [],
      "source": [
        "model = \"text-davinci-002\""
      ]
    },
    {
      "cell_type": "markdown",
      "metadata": {
        "id": "qsXXyPmVAd8K"
      },
      "source": [
        "This section of code calls the openai.Completion.create() function, which sends a request to the OpenAI API to generate a response based on the provided prompt and model. The engine parameter is set to the model variable, which specifies the desired OpenAI model. The prompt parameter is set to the prompt variable, which contains the text input for the model. The max_tokens parameter is set to 50, which limits the generated response to a maximum of 50 tokens (words). The temperature parameter sets how deterministic (random) the model is."
      ]
    },
    {
      "cell_type": "code",
      "execution_count": null,
      "metadata": {
        "id": "KMsEGZBeAdrc"
      },
      "outputs": [],
      "source": [
        "response = openai.Completion.create(\n",
        "    engine=model,\n",
        "    prompt=prompt,\n",
        "    max_tokens=50,\n",
        "    temperature=0.7\n",
        ")"
      ]
    },
    {
      "cell_type": "markdown",
      "metadata": {
        "id": "b2kwqPuayebY"
      },
      "source": [
        "Now that we've seen an example of how to use the OpenAI API to generate text, let's try putting everything together and request a PERM (permission to enroll) for a course!\n",
        "\n",
        "We will import the necessary libraries, authenticate our API key, and define our prompt and context, which includes a brief description of PERMs and examples of student requests.\n",
        "\n",
        "The prompt context serves as an essential piece of information that guides the model in generating relevant and meaningful responses. In this example, the context provides a brief description of the concept of PERMs (Permission to Enroll Requests) and their purpose, followed by a few example outputs. By providing this context, the model gains a better understanding of the problem at hand and the kind of responses it should generate. It also asssists the model in creating more personalized outputs."
      ]
    },
    {
      "cell_type": "code",
      "execution_count": null,
      "metadata": {
        "colab": {
          "base_uri": "https://localhost:8080/"
        },
        "id": "f9vNen2ReoXD",
        "outputId": "7da1dfb4-9107-4031-cc90-9c2e13198fbe"
      },
      "outputs": [
        {
          "name": "stdout",
          "output_type": "stream",
          "text": [
            "\n",
            "\"Dear Professor, I am a senior at CMC and I am writing to request enrollment in your computing together class. I have experience in data structures and I believe that this course would be a great opportunity for me to learn more about computational projects and workflows. I am particularly interested in the course because it covers topics such as human-human interactions and ethical decision making. I believe that this course would be an excellent fit for me and I would be very grateful if you would consider allowing me to enroll. Thank you for your time and consideration.\"\n",
            "\"Hello Professor, I am a freshman at CMC and I am writing to express my interest in enrolling in your computer systems course. I have experience in data structures and I believe that this course would be an excellent opportunity for me to learn more about computer systems and how they work. I am particularly interested in the course because it covers topics that I find fascinating, such as operating systems and networking. I am confident that this course will help me gain valuable knowledge and skills that will be useful for my future studies and career. I would be very grateful if you would consider allowing me to enroll. Thank you for your time and consideration.\"\n"
          ]
        }
      ],
      "source": [
        "#Now we're ready to get our PERM ideas!\n",
        "#We're going to be using OpenAI's API, so lets start by importing those libraries!\n",
        "import openai\n",
        "import os\n",
        "\n",
        "# In order to use APIs, each user has a specific key that they use,\n",
        "# so their requests are associated with a certain account of sorts!\n",
        "\n",
        "# OpenAI personal API key\n",
        "openai.api_key = 'your key'\n",
        "\n",
        "# Define the prompt\n",
        "prompt = queryText\n",
        "\n",
        "# Define context; includes description and examples\n",
        "context = \"\"\"\n",
        "PERMs defined by Harvey Mudd College:\n",
        "If a course is closed or requires instructor permission, you may submit a request to enroll, called a “PERM.” Your request will go to the instructor(s), who have three options: to clear all restrictions and allow you add the course, to clear all restrictions only if there are seats left in the course, and to deny the PERM.\n",
        "You will receive an email notification of the instructor’s response; read it carefully to find out what type of permission you have. If the instructor cleared you to enroll only if seats are available, you will only be able to add the course if there are spots open. Some courses have limits on certain numbers of students from each school, or other categories such as major.\n",
        "If your category (i.e. “HMC students”), is full, and you have the “only if” permission, you will not be able to add even if there are open seats in other categories (i.e. PO students). Note: An approved PERM does not automatically add you to the course. You must still add the course yourself on the portal.\n",
        "\n",
        "\n",
        "Examples that are not necessarily for this specific class:\n",
        "\n",
        "\"\"\"\n",
        "\n",
        "# include example outputs for the model to learn from (example examples are included)\n",
        "examples = [\n",
        "    \"\\\"Dear Professor, I am a freshman at CMC and I am very interested in enrolling in your computer systems course. I have experience in data structures and I believe that this course would be a great opportunity for me to learn more about computer systems and how they work. I am particularly interested in the course because it covers topics that I find fascinating, such as operating systems and networking. I believe that this course would be an excellent fit for me and I would be very grateful if you would consider allowing me to enroll. Thank you for your time and consideration.\\\"\",\n",
        "    \"\\\"Hello Professor, I am a junior at HMC and I am writing to request enrollment in your computer systems course. I have experience in data structures and I am very interested in learning more about computer systems and how they work. I believe that this course would be an excellent opportunity for me to gain knowledge and skills that will be useful for my future studies and career. Specifically, I am interested in the course because it covers topics that I find fascinating, such as operating systems and networking. I would be honored if you would consider allowing me to enroll in this course. Thank you for your time and attention.\\\"\",\n",
        "    \"\\\"Dear Professor, I am a senior at Pomona and I am writing to express my interest in enrolling in your computer systems course. I have experience in data structures and I believe that this course would be an excellent opportunity for me to learn more about computer systems and their underlying principles. I am particularly interested in the course because it covers topics that I find fascinating, such as operating systems and networking. I am confident that this course will help me gain valuable knowledge and skills that will be useful for my future studies and career. I would be very grateful if you would consider allowing me to enroll. Thank you for your time and consideration.\\\"\"\n",
        "]\n",
        "\n",
        "# Format the examples as a string and append to the context\n",
        "for example in examples:\n",
        "  context += f\"{example}\\n\"\n",
        "\n",
        "# Use the OpenAI API to generate responses\n",
        "response = openai.Completion.create(\n",
        "    engine=\"text-davinci-002\", # type of model, trained with supervised fine-tuning\n",
        "    prompt=prompt + \"\\n\" + context,\n",
        "    max_tokens=512,\n",
        "    n=3, # number of responses to generate\n",
        "    stop=None,\n",
        "    temperature=0.7, # value for how deterministic model is\n",
        "    top_p=1.0, # alternative to sampling with temperature, called nucleus sampling\n",
        "    echo=False # if True prints the prompt in addition to responses\n",
        ")\n",
        "\n",
        "# Extract the generated responses\n",
        "responses = [choice.text.strip() for choice in response.choices]\n",
        "\n",
        "# Print the responses\n",
        "for response in responses:\n",
        "  print(response)"
      ]
    }
  ],
  "metadata": {
    "colab": {
      "provenance": []
    },
    "kernelspec": {
      "display_name": "Python 3",
      "name": "python3"
    },
    "language_info": {
      "name": "python"
    }
  },
  "nbformat": 4,
  "nbformat_minor": 0
}
