{
  "cells": [
    {
      "cell_type": "markdown",
      "metadata": {},
      "source": [
        "# Spotify API Tutorial"
      ]
    },
    {
      "cell_type": "markdown",
      "metadata": {
        "id": "s2X_RzbOSrIh"
      },
      "source": [
        "by *Kayleah Tsai, Valentina Vallalta, Celine Wang*\n",
        "\n",
        "Hello and welcome to our tutorial for how to use the Spotify API. This tutorial is intended for students who have taken an introduction Python course and have heard about APIs but don't know how they work or have never used them but want to. This tutorial also requires you to have a Spotify account, which you can create for free. Additionally, for the best experience, please use Google Chrome to complete this tutorial. There will be technical limitations on other browsers, such as Safari.\n",
        "\n",
        "\n",
        "*   This tutorial starts with a deep dive into what APIs are and how they work.\n",
        "*   Then we show you how to install and use the Spotipy python library and how to do the correct authorization to start pulling information about any popular artists.\n",
        "*   Then, we will show you how to create access tokens so that you can give permissions to access your own personal account information. From here, you will get information such as your saved songs, top songs, and top artists.\n",
        "*   Finally, building on all the skills we learned, we will show you how to create a playlist onto your own account of recommended new songs based on your current favorites.\n",
        "\n",
        "We will begin with the first section, which teaches you about what APIs are, how they work, and the different types of APIs.\n"
      ]
    },
    {
      "cell_type": "markdown",
      "metadata": {
        "id": "yTLuy6DeMcMT"
      },
      "source": [
        "## What is an API?\n",
        "Now, the most important topic for us to explain at the beginning is what an API is. API stands for Application Programming Interface, which are three very long words that are honestly not very descriptive. In simpler terms, “an API is a set of rules that define how applications or devices can connect to and communicate with each other” (IBM). APIs are useful because they help simplify code development; you can connect with current software without needing to know specifically how it is implemented. For example, you can connect with Spotify and grab data from it that you have access to without having to understand the Spotify algorithms. Then you can do whatever you would like with that data."
      ]
    },
    {
      "cell_type": "markdown",
      "metadata": {
        "id": "-5PmeoWEMj0N"
      },
      "source": [
        "## How do APIs work?\n",
        "In a simplistic model, an API allows an application to send requests for data to another application which will then fulfill this request by grabbing the necessary data and sending it back. The application that sends requests is often called the client and the application that fulfills the request is called the server.\n",
        "\n",
        "However, more specifics about how an API works will depend on the type of API we are considering. The Spotify API is an open web RESTful API. What does that all mean? Let’s break it down type by type.\n"
      ]
    },
    {
      "cell_type": "markdown",
      "metadata": {
        "id": "W7EYmAf0MoiT"
      },
      "source": [
        "## What is an Open API?\n",
        "An Open API means an API that is publicly available. There is limited registration for using this API. Often a user would just need an API key associated with an email address because the creators of the API want the data to be publicly accessible. Governments and large companies like Spotify often have open APIs which encourage developers to interact with the data on their software in creative ways.\n"
      ]
    },
    {
      "cell_type": "markdown",
      "metadata": {
        "id": "2uV-DWeVMrWh"
      },
      "source": [
        "## What is a Web API?\n",
        "A web API is any API that connects applications over the internet. That means they are used all around you! Almost every time you use an app on your phone, you are using web APIs. Web APIs use the HTTP protocol, but other than that, there are few restrictions.\n"
      ]
    },
    {
      "cell_type": "markdown",
      "metadata": {
        "id": "fg2IbQLdMvZX"
      },
      "source": [
        "## What is a RESTful API?\n",
        "REST is yet another acronym. REST stands for Representational State Transfer, and it is a protocol that defines the syntax, such as the commands available, of an API to make it more uniform and easier to use.\n",
        "\n",
        "Now, we will move on to interfacing with the Spotify API."
      ]
    },
    {
      "cell_type": "markdown",
      "metadata": {
        "id": "mJFx4m1WemDI"
      },
      "source": [
        "## API Resources\n",
        "https://www.ibm.com/topics/rest-apis#:~:text=the%20next%20step-,What%20is%20a%20REST%20API%3F,representational%20state%20transfer%20architectural%20style.\n",
        "https://www.ibm.com/topics/api\n",
        "https://stoplight.io/api-types\n",
        "https://aws.amazon.com/what-is/api/\n",
        "https://www.mulesoft.com/resources/api/what-is-an-api\n",
        "https://engineering.atspotify.com/2015/03/understanding-spotify-web-api/#:~:text=Our%20API%20is%20what%20is,directly%20from%20your%20own%20browser."
      ]
    },
    {
      "cell_type": "markdown",
      "metadata": {
        "id": "jP7pA4v5eWHo"
      },
      "source": [
        "## Before We Begin\n",
        "In order to allow pop-ups on a browser, you will need to connect this Colab tutorial to a locally running Jupyter Notebook.\n",
        "\n",
        "1. Download this Jupyter Notebook onto your local computer.\n",
        "2. Open up a terminal and use the 'cd' command to get into the folder where this Jupyter Notebook is located. For more information about basic terminal commands, look [here](https://www.git-tower.com/learn/git/ebook/en/command-line/appendix/command-line-101#:~:text=To%20change%20this%20current%20working,%24%20cd%20).\n",
        "3. Then run the following command: `jupyter notebook --NotebookApp.allow_origin='https://colab.research.google.com' --port=8888 --NotebookApp.port_retries=0`\n",
        "** If this port number is not available, feel free to change the port number (currently 8888 to any number 1024 - 49151)\n",
        "4. The terminal will load and then output a URL that will look something like this: `http://localhost:8888/?token=khiugbionig` Copy the URL from the terminal.\n",
        "5. Then return to this Colab Tutorial and click on the dropdown arrow next to the word \"Connect\" in the upper right corner.\n",
        "6. Select \"Connect to a local runtime\".\n",
        "7. You will be prompted to paste in the URL you copied from your local terminal.\n",
        "8. Click Connect in the pop-up and you should be all setup!\n",
        "\n",
        "Reference: Prof Xanda’s CS181AK Data Lab\n"
      ]
    },
    {
      "cell_type": "markdown",
      "metadata": {
        "id": "p6Ac4ZRMM4h-"
      },
      "source": [
        "## Important Libraries\n",
        "We will be mostly relying on the Python library, [Spotipy](https://spotipy.readthedocs.io/). Spotipy allows us to make API requests to the Spotify API with simple built-in functions.\n",
        "### Installing Spotipy\n",
        "Before you can import Spotipy, you must install it using a simple `pip` command. If you already have Spotipy installed, you can run the same command followed by the flag `--upgrade` to make sure you have the most recent version.\n"
      ]
    },
    {
      "cell_type": "code",
      "execution_count": null,
      "metadata": {
        "colab": {
          "base_uri": "https://localhost:8080/"
        },
        "id": "wUo0Wj9dLpTd",
        "outputId": "af84dc88-ad7c-4e5f-ef6a-19bbd8cf5db5"
      },
      "outputs": [
        {
          "name": "stdout",
          "output_type": "stream",
          "text": [
            "Looking in indexes: https://pypi.org/simple, https://us-python.pkg.dev/colab-wheels/public/simple/\n",
            "Collecting spotipy\n",
            "  Downloading spotipy-2.23.0-py3-none-any.whl (29 kB)\n",
            "Collecting redis>=3.5.3\n",
            "  Downloading redis-4.5.4-py3-none-any.whl (238 kB)\n",
            "\u001b[2K     \u001b[90m━━━━━━━━━━━━━━━━━━━━━━━━━━━━━━━━━━━━━━\u001b[0m \u001b[32m238.9/238.9 kB\u001b[0m \u001b[31m14.5 MB/s\u001b[0m eta \u001b[36m0:00:00\u001b[0m\n",
            "\u001b[?25hRequirement already satisfied: requests>=2.25.0 in /usr/local/lib/python3.10/dist-packages (from spotipy) (2.27.1)\n",
            "Requirement already satisfied: urllib3>=1.26.0 in /usr/local/lib/python3.10/dist-packages (from spotipy) (1.26.15)\n",
            "Requirement already satisfied: six>=1.15.0 in /usr/local/lib/python3.10/dist-packages (from spotipy) (1.16.0)\n",
            "Collecting async-timeout>=4.0.2\n",
            "  Downloading async_timeout-4.0.2-py3-none-any.whl (5.8 kB)\n",
            "Requirement already satisfied: certifi>=2017.4.17 in /usr/local/lib/python3.10/dist-packages (from requests>=2.25.0->spotipy) (2022.12.7)\n",
            "Requirement already satisfied: idna<4,>=2.5 in /usr/local/lib/python3.10/dist-packages (from requests>=2.25.0->spotipy) (3.4)\n",
            "Requirement already satisfied: charset-normalizer~=2.0.0 in /usr/local/lib/python3.10/dist-packages (from requests>=2.25.0->spotipy) (2.0.12)\n",
            "Installing collected packages: async-timeout, redis, spotipy\n",
            "Successfully installed async-timeout-4.0.2 redis-4.5.4 spotipy-2.23.0\n"
          ]
        }
      ],
      "source": [
        "!pip3 install spotipy"
      ]
    },
    {
      "cell_type": "code",
      "execution_count": null,
      "metadata": {
        "id": "seKg10AMLpTd"
      },
      "outputs": [],
      "source": [
        "import spotipy\n",
        "from spotipy.oauth2 import SpotifyClientCredentials\n",
        "from spotipy.oauth2 import SpotifyOAuth\n",
        "import spotipy.util as util\n",
        "import itertools"
      ]
    },
    {
      "cell_type": "markdown",
      "metadata": {
        "id": "0JIzX5WSPvHY"
      },
      "source": [
        "## User Authorization\n",
        "There are two different authorization flows that will grant you different permissions. We will describe and use both of them in this tutorial.\n",
        "\n",
        "\n",
        "### Client Credentials Code Flow\n",
        "The client credentials code flow will allow us to access general public Spotify information, but will not allow us to look into a specific user’s data. We will use the client credentials code flow for the first part of the tutorial, so let’s set it up.\n",
        "\n",
        "Again, we will need to import a Spotipy class, but this time it will be SpotifyClientCredentials. In order to be able to make requests to the Spotify API, you will need to pass in your client secret and client ID to the SpotifyClientCredentials class and then call Spotify using this authentication.\n",
        "\n",
        "We have set up most of this for you, so all you need to do is input your client secret and client ID into the necessary variables.\n",
        "\n",
        "### Authorization Code Flow\n",
        "The authorization code flow will enable you to look at user-specific data and require you to only sign in once because your information will then be saved in the form of an access token. We will demonstrate how to create access tokens later in the tutorial, but for now, we will need to import the SpotifyOAuth class to authenticate requests.\n"
      ]
    },
    {
      "cell_type": "markdown",
      "metadata": {
        "id": "VjpLuEqbYNm5"
      },
      "source": [
        "To start interfacing with the Spotify API, you will first need to create an app in the Spotify for Developers website. You can do so at this link: <https://developer.spotify.com>. It uses your same Spotify account log in information.\n",
        "Once you are on the website and logged in, click the drop down menu on your name and click ‘Dashboard’. Accept the Spotify's Developer Terms of Service, then click “Create App”. You should fill out the information as follows. The App name and description don't need to be the same as shown in the image, but please set the Rederect URI to `http://localhost:8088` so that the rest of the code can work as is. You may leave the website field empty.\n",
        "\n",
        "** Again, if you have already used the port number 8088, you can change the last 4 digits of the URI to any number 1024 - 49151)\n",
        "\n",
        "<img src=\"https://drive.google.com/uc?id=1SbEXYLjfQtWlFFhAqPUPx7KV-L5Bi8GC\" width=\"500\"/>\n",
        "\n",
        "Once you click ‘Save’ and create your app, you will need to click ‘Settings’ on the top right corner. Then you will need to get your Client ID and Client Secret and paste them into the variables in the code cell below.  Here is the screen where you will find them. To find the secret, you will need to click 'View Client Secret' and then you will be able to copy and paste it.\n",
        "\n",
        "<img src=\"https://drive.google.com/uc?id=1ajUSGPvkzKD5VKXIWqrasa3SkT5nP9UA\" width=\"500\"/>\n",
        "\n"
      ]
    },
    {
      "cell_type": "code",
      "execution_count": null,
      "metadata": {
        "id": "VuF3UF8bLpTd"
      },
      "outputs": [],
      "source": [
        "SPOTIPY_CLIENT_ID = \"\"\n",
        "SPOTIPY_CLIENT_SECRET = \"\"\n",
        "SPOTIPY_REDIRECT_URI = 'http://localhost:8088'"
      ]
    },
    {
      "cell_type": "markdown",
      "metadata": {
        "id": "nPbJLTylLpTe"
      },
      "source": [
        "Now, we will use the client credentials code flow, explained above, to be able to get information about different artists from Spotify."
      ]
    },
    {
      "cell_type": "code",
      "execution_count": null,
      "metadata": {
        "id": "2sAwHss8LpTe"
      },
      "outputs": [],
      "source": [
        "client_credentials_manager = SpotifyClientCredentials(client_id=SPOTIPY_CLIENT_ID, client_secret=SPOTIPY_CLIENT_SECRET)\n",
        "sp = spotipy.Spotify(client_credentials_manager=client_credentials_manager)"
      ]
    },
    {
      "cell_type": "markdown",
      "metadata": {
        "id": "oC5ZwrMJQYnM"
      },
      "source": [
        "## General GET Requests\n",
        "### Artist Top Tracks\n",
        "Let’s first try to get a few of the top tracks of an artist. The code cell below shows the function we will use, which takes the artist ID as an input.\n",
        "\n",
        "#### A Note on JSON Formatting\n",
        "Something important to note is that the Spotipy functions we will use in this tutorial, such as `sp.artist_top_tracks` below, return JSON text. Simply put, JSON is just a dictionary. One example is `{\"name\":\"John\", \"age\":30, \"car\":null}`\n",
        "\n",
        "For the sake of this tutorial you will not need to worry about the JSON that is returned. This is why we wrote extra functions, such as `artist_top_5_tracks`. Within this function, we use dictionary indexing `artist_top_5['tracks']` on the JSON  to get the information we are interested in. You are able to run these functions without having to worry about the JSON. However, if you want to learn more about JSON, look [here](https://www.w3schools.com/js/js_json_intro.asp).\n"
      ]
    },
    {
      "cell_type": "code",
      "execution_count": null,
      "metadata": {
        "id": "cxNj87ouLpTe"
      },
      "outputs": [],
      "source": [
        "def artist_top_5_tracks(artist_id):\n",
        "  artist_top_5 = sp.artist_top_tracks(artist_id, country='US')\n",
        "  print('---top 5 artist tracks---')\n",
        "  for track in artist_top_5['tracks'][:5]:\n",
        "    print('track: ', track['name'])"
      ]
    },
    {
      "cell_type": "markdown",
      "metadata": {
        "id": "tAyWa7_Vawgk"
      },
      "source": [
        "Here is how you can find the artist ID:\n",
        "* Open Spotify either in your browser or on the desktop app.\n",
        "* Search for the artist you’d like to retrieve data on.\n",
        "* Click the three dots on the artist’s page > Hover over “Share” > Click “Copy link to artist”.\n",
        "* Paste the link in the browser and copy the ID which can be found after “https:/open.spotify.com/artist/” and before “?”.\n",
        "\n",
        "For example, Taylor Swift’s artist ID is in the part bolded:\n",
        "\n",
        "https:/open.spotify.com/artist/**06HL4z0CvFAxyc27GXpf02**?si=MADkxGBeRMmmV1FJd6ZRCQ\n",
        "\n",
        "Try this with another artist of your choice, then call the function on it. You can do this by creating a new code cell or add/edit code on this same cell."
      ]
    },
    {
      "cell_type": "code",
      "execution_count": null,
      "metadata": {
        "colab": {
          "base_uri": "https://localhost:8080/"
        },
        "id": "t6VYbXN4LpTe",
        "outputId": "3fa5cd93-0384-4a4b-c264-40cfe3cfa168"
      },
      "outputs": [
        {
          "name": "stdout",
          "output_type": "stream",
          "text": [
            "---top 5 artist tracks---\n",
            "track:  Anti-Hero\n",
            "track:  All Of The Girls You Loved Before\n",
            "track:  Blank Space\n",
            "track:  Lavender Haze\n",
            "track:  Cruel Summer\n"
          ]
        }
      ],
      "source": [
        "artist_name = \"Taylor Swift\"\n",
        "artist_id = \"06HL4z0CvFAxyc27GXpf02\"\n",
        "artist_top_5_tracks(artist_id)"
      ]
    },
    {
      "cell_type": "markdown",
      "metadata": {
        "id": "-aO9ehGdQl1K"
      },
      "source": [
        "### Album Tracks\n",
        "Now we will get all the tracks in an album of your choice. To get the album ID, use the same directions as you did to get the artist ID, but on the specific album’s page.\n",
        "\n",
        "Set the `album_id` variable to the album ID you copied, then call the function with it.\n"
      ]
    },
    {
      "cell_type": "code",
      "execution_count": null,
      "metadata": {
        "id": "9lUhlj7oLpTf"
      },
      "outputs": [],
      "source": [
        "def album_tracks(album_id):\n",
        "  album_tracks = sp.album_tracks(album_id, limit=30)\n",
        "  print('---album tracks---')\n",
        "  for item in album_tracks['items']:\n",
        "    print('track: ' + item['name'])"
      ]
    },
    {
      "cell_type": "markdown",
      "metadata": {
        "id": "psslGUiqLpTf"
      },
      "source": [
        "Here is one example below of getting the album tracks from a Kygo album. Try it yourself with an album of your choosing!"
      ]
    },
    {
      "cell_type": "code",
      "execution_count": null,
      "metadata": {
        "colab": {
          "base_uri": "https://localhost:8080/"
        },
        "id": "-No94PkRLpTf",
        "outputId": "b3c42017-7ab5-4589-c79b-d961c786ea06"
      },
      "outputs": [
        {
          "name": "stdout",
          "output_type": "stream",
          "text": [
            "---album tracks---\n",
            "track: Gone Are The Days (feat. James Gillespie)\n",
            "track: Love Me Now (feat. Zoe Wees)\n",
            "track: Lonely Together (feat. Dagny)\n",
            "track: Undeniable (feat. X Ambassadors)\n",
            "track: Thrill of the Chase (feat. R.I.Pablo)\n",
            "track: Dancing Feet (feat. DNCE)\n",
            "track: Fever (feat. Lukas Graham)\n",
            "track: Woke Up in Love\n",
            "track: How Many Tears (feat. Emily Warren)\n",
            "track: Never Really Loved Me (with Dean Lewis)\n",
            "track: The Way We Were (feat. Plested)\n",
            "track: Lost Without You (with Dean Lewis)\n",
            "track: All For Love (feat. Stuart Crichton)\n",
            "track: Freeze\n"
          ]
        }
      ],
      "source": [
        "album_id_Kygo= \"2lVpgsdtPiXE01gL5mApyn\"\n",
        "album_tracks(album_id_Kygo)"
      ]
    },
    {
      "cell_type": "markdown",
      "metadata": {
        "id": "2RW57eHzQ2pF"
      },
      "source": [
        "### Related Artists\n",
        "Now we will get some of the artists that are related to an artist. To do this, we need to use an artist ID. This can be the same artist ID as the one you used for the previous function or you may choose to explore another artist.\n",
        "\n",
        "Play with the popularity value condition that determines which artists are related to the one you want to explore.\n"
      ]
    },
    {
      "cell_type": "code",
      "execution_count": null,
      "metadata": {
        "id": "JgrtWibyLpTf"
      },
      "outputs": [],
      "source": [
        "def related_artists(artist_id):\n",
        "  related_artists = sp.artist_related_artists(artist_id)\n",
        "  print('---artist related artists---')\n",
        "  for artist in related_artists['artists']:\n",
        "    if artist['popularity'] >= 70:\n",
        "      print('artist: ' + artist['name'])\n"
      ]
    },
    {
      "cell_type": "markdown",
      "metadata": {
        "id": "anGHv_VGLpTf"
      },
      "source": [
        "Here is an example below with Taylor Swift. Try it yourself with a different artist."
      ]
    },
    {
      "cell_type": "code",
      "execution_count": null,
      "metadata": {
        "colab": {
          "base_uri": "https://localhost:8080/"
        },
        "id": "kXTQ5LI5LpTf",
        "outputId": "1a4bd585-f0b7-46bd-9965-81a602dc2cfc"
      },
      "outputs": [
        {
          "name": "stdout",
          "output_type": "stream",
          "text": [
            "---artist related artists---\n",
            "artist: Demi Lovato\n",
            "artist: Selena Gomez\n",
            "artist: Alessia Cara\n",
            "artist: Katy Perry\n",
            "artist: Harry Styles\n",
            "artist: Camila Cabello\n",
            "artist: Halsey\n",
            "artist: Niall Horan\n",
            "artist: Meghan Trainor\n",
            "artist: Selena Gomez & The Scene\n",
            "artist: Jonas Brothers\n",
            "artist: Troye Sivan\n",
            "artist: One Direction\n",
            "artist: 5 Seconds of Summer\n",
            "artist: Ariana Grande\n",
            "artist: The 1975\n",
            "artist: Louis Tomlinson\n",
            "artist: Little Mix\n",
            "artist: Sabrina Carpenter\n"
          ]
        }
      ],
      "source": [
        "artist_id_Taylor_Swift = \"06HL4z0CvFAxyc27GXpf02\"\n",
        "related_artists(artist_id_Taylor_Swift)"
      ]
    },
    {
      "cell_type": "markdown",
      "metadata": {
        "id": "bH7qWbCnQ7un"
      },
      "source": [
        "### Latest Albums\n",
        "To get the latest albums of an artist, you’ll use an artist ID again. You can specify how many albums you want to retrieve by adding an argument called `limit` set to some integer value. You can also play with the argument `album_type` with the following options: `album`, `single`, `appears_on`, `compilation`.\n"
      ]
    },
    {
      "cell_type": "code",
      "execution_count": null,
      "metadata": {
        "id": "rqv5mX09LpTf"
      },
      "outputs": [],
      "source": [
        "def latest_albums(artist_id):\n",
        "  artist_albums = sp.artist_albums(artist_id)\n",
        "  print('---artist releases---')\n",
        "  latest_album_name = artist_albums['items']\n",
        "  for album in artist_albums['items']:\n",
        "    print(album['name'])"
      ]
    },
    {
      "cell_type": "markdown",
      "metadata": {
        "id": "qscpHF6OLpTf"
      },
      "source": [
        "Now here is an example with Taylor Swift. Again, try it with a different artist of your choosing."
      ]
    },
    {
      "cell_type": "code",
      "execution_count": null,
      "metadata": {
        "colab": {
          "base_uri": "https://localhost:8080/"
        },
        "id": "tVgsE58SLpTf",
        "outputId": "e350ec28-bb0f-4949-b563-fdb7011bdecb"
      },
      "outputs": [
        {
          "name": "stdout",
          "output_type": "stream",
          "text": [
            "---artist releases---\n",
            "Midnights (3am Edition)\n",
            "Midnights (3am Edition)\n",
            "Midnights\n",
            "Midnights\n",
            "Red (Taylor's Version)\n",
            "Red (Taylor's Version)\n",
            "Fearless (Taylor's Version)\n",
            "evermore (deluxe version)\n",
            "evermore (deluxe version)\n",
            "evermore\n",
            "evermore\n",
            "evermore\n",
            "folklore: the long pond studio sessions (from the Disney+ special) [deluxe edition]\n",
            "folklore: the long pond studio sessions (from the Disney+ special) [deluxe edition]\n",
            "folklore (deluxe version)\n",
            "folklore (deluxe version)\n",
            "folklore\n",
            "folklore\n",
            "Lover\n",
            "Taylor Swift Karaoke: reputation\n"
          ]
        }
      ],
      "source": [
        "artist_id_Taylor_Swift = \"06HL4z0CvFAxyc27GXpf02\"\n",
        "latest_albums(artist_id_Taylor_Swift)"
      ]
    },
    {
      "cell_type": "markdown",
      "metadata": {
        "id": "w7LQfyHLRB-L"
      },
      "source": [
        "## Personalized GET Requests\n",
        "### Access Tokens\n",
        "For this following step, we will start getting information from your profile. We will need your username. You can get your username from the Spotify mobile app by tapping on your profile picture under ‘Your Library’ then tapping ‘Account’. You can also get it from the desktop or browser app by clicking your profile at the top right corner then clicking ‘Account’. Once you find your username, paste it into the username variable.\n",
        "\n",
        "Now, we need to set some tokens to be able to get information from your profile. We have provided three separate tokens, each for different permissions. The first one allows you to read information saved in your library. The second one allows you to read information from your top music listening trends. The last one will allow you to create, modify, and follow playlists.\n",
        "\n",
        "Once you run this code cell, this will lead you to a pop up to each of those tokens respectively, and you will have to log in and accept permissions from your account three times in total, once for each token. Here is an example of what one of the pop-ups looks like:\n",
        "\n",
        "<img src=\"https://drive.google.com/uc?id=1nOtD9wHfp2rJ2agHZK9BQ8y6E0OL7XKn\" width=\"500\"/>\n",
        "\n",
        "Now we can start getting information from your account and start building the skills necessary to make a playlist of song suggestions based on your current listening trends.\n"
      ]
    },
    {
      "cell_type": "code",
      "execution_count": null,
      "metadata": {
        "id": "DhYF-Ls5LpTf"
      },
      "outputs": [],
      "source": [
        "username = \"\"\n",
        "\n",
        "token_library = util.prompt_for_user_token(username,\n",
        "                           \"user-library-read\",\n",
        "                           client_id= SPOTIPY_CLIENT_ID,\n",
        "                           client_secret=SPOTIPY_CLIENT_SECRET,\n",
        "                           redirect_uri= SPOTIPY_REDIRECT_URI)\n",
        "token_top = util.prompt_for_user_token(username,\n",
        "                           \"user-top-read\",\n",
        "                           client_id= SPOTIPY_CLIENT_ID,\n",
        "                           client_secret=SPOTIPY_CLIENT_SECRET,\n",
        "                           redirect_uri= SPOTIPY_REDIRECT_URI)\n",
        "token_make_playlist = util.prompt_for_user_token(username,\n",
        "                           \"playlist-modify-public\",\n",
        "                           client_id= SPOTIPY_CLIENT_ID,\n",
        "                           client_secret=SPOTIPY_CLIENT_SECRET,\n",
        "                           redirect_uri= SPOTIPY_REDIRECT_URI)\n",
        "token_lookup_playlist = util.prompt_for_user_token(username,\n",
        "                           \"playlist-read-private\",\n",
        "                           client_id= SPOTIPY_CLIENT_ID,\n",
        "                           client_secret=SPOTIPY_CLIENT_SECRET,\n",
        "                           redirect_uri= SPOTIPY_REDIRECT_URI)"
      ]
    },
    {
      "cell_type": "markdown",
      "metadata": {
        "id": "cNxgOUtPRNdW"
      },
      "source": [
        "### Current User Saved Tracks\n",
        "\n",
        "As a reminder, the variable `token_library` is what allows us to get information from your library. Thus, here we get your Saved Tracks.\n"
      ]
    },
    {
      "cell_type": "code",
      "execution_count": null,
      "metadata": {
        "id": "rXe97D5aLpTf"
      },
      "outputs": [],
      "source": [
        "if token_library:\n",
        "  sp = spotipy.Spotify(auth=token_library)\n",
        "  save_tracks = sp.current_user_saved_tracks()\n",
        "  print(\"--User's Saved Tracks--\")\n",
        "  for item in save_tracks['items']:\n",
        "    track = item['track']\n",
        "    print(track['name'] + ' - ' + track['artists'][0]['name'])\n",
        "else:\n",
        "  print(\"Can't get token for\", username)"
      ]
    },
    {
      "cell_type": "markdown",
      "metadata": {
        "id": "VxdV3kJCRTcr"
      },
      "source": [
        "### Current User Top Artists\n",
        "As a reminder, the variable `token_top` is what allows us to get information from your top listening trends. Thus, here we get your Top Artists.\n",
        "\n",
        "Specifically, this code cell gets your top artists. We are storing them in a dictionary with the key as the artist name and the value as the artist ID. Having the artist ID here will help us out in the future and this way, we don't need to get the ID's manually from the app. At the end, we\n",
        "edit the dictionary to only have your top 5 artists. You may change this if you wish, to get a wider or smaller range of artists in your playlist.\n"
      ]
    },
    {
      "cell_type": "code",
      "execution_count": null,
      "metadata": {
        "id": "6FEzwnBeLpTg"
      },
      "outputs": [],
      "source": [
        "if token_top:\n",
        "  top_artists_list = {}\n",
        "  sp = spotipy.Spotify(auth=token_top)\n",
        "  top_artists = sp.current_user_top_artists()\n",
        "  print(\"--User's Top Artists--\")\n",
        "  for item in top_artists['items']:\n",
        "    artist = item['name']\n",
        "    result = sp.search(artist) #search query\n",
        "    artist_id = result['tracks']['items'][0]['artists'][0]['id']\n",
        "    top_artists_list[artist] = artist_id\n",
        "    dict(itertools.islice(top_artists_list.items(), 5))\n",
        "    top_artists_list = dict(list(top_artists_list.items())[:5])\n",
        "    print(top_artists_list)\n",
        "else:\n",
        "  print(\"Can't get token for\", username)"
      ]
    },
    {
      "cell_type": "markdown",
      "metadata": {
        "id": "QjbfRt4nRi4s"
      },
      "source": [
        "### Current User Top Tracks\n",
        "Here, we are using the `token_top` variable again to get your Top Tracks.\n"
      ]
    },
    {
      "cell_type": "code",
      "execution_count": null,
      "metadata": {
        "id": "N3TqZ2soLpTg"
      },
      "outputs": [],
      "source": [
        "if token_top:\n",
        "  sp = spotipy.Spotify(auth=token_top)\n",
        "  top_tracks = sp.current_user_top_tracks()\n",
        "  print(\"--User's Top Tracks--\")\n",
        "  for item in top_tracks['items']:\n",
        "    track = item['name']\n",
        "    print(track)\n",
        "else:\n",
        "    print(\"Can't get token for\", username)"
      ]
    },
    {
      "cell_type": "markdown",
      "metadata": {
        "id": "4RMN9IbARpXW"
      },
      "source": [
        "## Creating Personalized Playlists\n",
        "### Related Artists to Current User Top Artists\n",
        "Now we will create a new dictionary with some related artists to your top artists. We will grab two related artists for each of your top 5 artists.\n",
        "\n",
        "These related artists will be stored in a dictionary because later we will need the artist IDs for further API calls. So our dictionary will have the artists’ names as keys in the dictionary and the corresponding artist ID as the values in the dictionary.\n"
      ]
    },
    {
      "cell_type": "code",
      "execution_count": null,
      "metadata": {
        "id": "o90nhKhrLpTg"
      },
      "outputs": [],
      "source": [
        "related_artists_dict = {}\n",
        "for artist in top_artists_list.keys():\n",
        "  artist_id = top_artists_list[artist]\n",
        "  related_artists = sp.artist_related_artists(artist_id)\n",
        "  for i in range (0,2):\n",
        "    related_artists_id = related_artists['artists'][i]['id']\n",
        "    related_artists_name = related_artists['artists'][i]['name']\n",
        "    related_artists_dict[related_artists_name] = related_artists_id\n",
        "\n",
        "print(related_artists_dict)"
      ]
    },
    {
      "cell_type": "markdown",
      "metadata": {
        "id": "0MlfAdlBRxHV"
      },
      "source": [
        "### Top Tracks of Related Artists\n",
        "Now we can find the top songs for each of the related artists. We will again create a dictionary where the key is the artist and the ID is a list of the song IDs. This will make it easier for us to use this information later when creating a personalized playlist.\n",
        "\n",
        "We will use functions you have seen before such as `artist_top_tracks`.\n"
      ]
    },
    {
      "cell_type": "code",
      "execution_count": null,
      "metadata": {
        "id": "BL5T-UTLLpTg"
      },
      "outputs": [],
      "source": [
        "related_artists_songs = {}\n",
        "for artist in related_artists_dict.keys():\n",
        "  songs = []\n",
        "  related_artists_id = related_artists_dict[artist]\n",
        "  artist_top_5 = sp.artist_top_tracks(related_artists_id, country='US')\n",
        "  for track in artist_top_5['tracks'][:5]:\n",
        "    songs.append(track['id'])\n",
        "    related_artists_songs[artist] = songs\n",
        "\n",
        "print(related_artists_songs)"
      ]
    },
    {
      "cell_type": "markdown",
      "metadata": {
        "id": "K9aQ1wu21irw"
      },
      "source": [
        "### Creating a Blank Playlist\n",
        "To start, you will need to find your user ID on Spotify in order to create a playlist on this account.\n",
        "\n",
        "To get your Spotify user ID:\n",
        "* Open up Spotify on the Desktop app or mobile app.\n",
        "* Navigate to Your Profile.\n",
        "* Using the three dots, copy the link to your profile.\n",
        "* The user ID is the part after \"=\". For example, if this is your link, https:/open.spotify.com/user/username?si=**cc5b65715573467f** then your id is **cc5b65715573467f**\n",
        "\n"
      ]
    },
    {
      "cell_type": "code",
      "execution_count": null,
      "metadata": {
        "id": "Z3S4r8pyLpTg"
      },
      "outputs": [],
      "source": [
        "userID = \"\"\n",
        "playlistName = \"Spotipy\"\n",
        "current_user_playlists = []\n",
        "\n",
        "if token_lookup_playlist:\n",
        "  sp = spotipy.Spotify(auth=token_lookup_playlist)\n",
        "  user_playlists = sp.current_user_playlists()\n",
        "  for item in user_playlists[\"items\"]:\n",
        "    current_user_playlists.append(item[\"name\"])\n",
        "\n",
        "if token_make_playlist:\n",
        "  sp = spotipy.Spotify(auth=token_make_playlist)\n",
        "  if playlistName not in current_user_playlists:\n",
        "    creating = sp.user_playlist_create(userID, playlistName )\n",
        "  else:\n",
        "    print(\"This playlist already exists. Please choose another name for your playlist.\")"
      ]
    },
    {
      "cell_type": "markdown",
      "metadata": {
        "id": "LzDRaNHGLpTg"
      },
      "source": [
        "### Add Songs to Your Playlist\n",
        "\n",
        "Now that you have created a playlist, we can now add songs! You will first need the ID of your new playlist so that it can be referenced.\n",
        "\n",
        "To get your playlist ID:\n",
        "*   Open up Spotify on the Desktop app, browser, or mobile app.\n",
        "*   Navigate to Your Library.\n",
        "*   Find the playlist you just created.\n",
        "*   Using the three dots, copy the link to share your playlist.\n",
        "*   The playlist ID is the part after \"playlist/\" and before the question mark (?). For example, if this is your link,\n",
        "https:/open.spotify.com/playlist/**5AjHM83DCxT8xBQmy8Kxza**?si=dff1f625fd5c49fc, the ID would be **5AjHM83DCxT8xBQmy8Kxza**.\n",
        "\n",
        "We then want to use the Spotipy function `user_playlist_add_tracks(userID, playlistID, tracks_to_add)`. The `tracks_to_add` argument will be the list of `related_artists_songs` that we previously created.\n",
        "\n",
        "Once you run this cell, check your Spotify account again. At this point, you should see your playlist full of fun, new songs! Congratulations on creating your own personalized playlist with Spotipy!\n",
        "\n"
      ]
    },
    {
      "cell_type": "code",
      "execution_count": null,
      "metadata": {
        "id": "74IOjr0wLpTg"
      },
      "outputs": [],
      "source": [
        "playlistID = \"\"\n",
        "\n",
        "if token_make_playlist:\n",
        "  for artist in related_artists_songs:\n",
        "    adding = sp.user_playlist_add_tracks(userID, playlistID, related_artists_songs[artist])"
      ]
    }
  ],
  "metadata": {
    "colab": {
      "provenance": []
    },
    "kernelspec": {
      "display_name": "Python 3",
      "language": "python",
      "name": "python3"
    },
    "language_info": {
      "codemirror_mode": {
        "name": "ipython",
        "version": 3
      },
      "file_extension": ".py",
      "mimetype": "text/x-python",
      "name": "python",
      "nbconvert_exporter": "python",
      "pygments_lexer": "ipython3",
      "version": "3.11.2"
    }
  },
  "nbformat": 4,
  "nbformat_minor": 0
}
