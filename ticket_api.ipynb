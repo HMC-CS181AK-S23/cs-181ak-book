{
  "cells": [
    {
      "cell_type": "markdown",
      "metadata": {},
      "source": [
        "# Ticketmaster API Tutorial"
      ]
    },
    {
      "cell_type": "markdown",
      "metadata": {
        "id": "RlJeerMomYJk"
      },
      "source": [
        "Understanding and using API\n",
        "\n",
        "**Team**: Aoi Yasuda, Maymuunah Quasim, Jose Liera\n",
        "\n",
        "**Summary**: In this tutorial, users will develop an understanding of APIs and how it works through implementing a software that compares ticket prices on different platforms. The tutorial is divided into 4 sections: 1) we will first start by an overview of this tutorial, 2) dive into the concepts of API, 3) start interacting with API, and 4) finally, build the ticket-comparing software.\n",
        "\n",
        "**Audience**: Individuals with basic Python knowledge looking to understand and use API on their own.\n",
        "\n",
        "**Libraries used**:\n",
        "- requests\n",
        "- json\n",
        "- sys\n",
        "\n",
        "**Vocabulary**: List key concepts that will be defined/explained in your tutorial.\n",
        "- Application Programming Interface (API)\n",
        "- HTTP Request\n"
      ]
    },
    {
      "cell_type": "markdown",
      "metadata": {
        "id": "W3mmKwcqmYJl"
      },
      "source": [
        "## Section 1: Overview\n",
        "\n",
        "\n",
        "### Why API?\n",
        "\n",
        "Aftering learning how to code many new coders would love to know how they can use their new found knowledge to aid themselves and create new things. Luckily with the use of APIs people can use the data given to create programs that help them solve problems in their day to day lives. Although the ability to use API is important for programmers, it is not that easy to dive into. People often dive head first into using API without understanding what API is and how it works. An introductory tutorial to walk through how to use specific APIs would be a great and applicable way to learn how to use APIs in general.\n",
        "\n",
        "### Why ticket-price-comparing software?\n",
        "\n",
        "As large gathers are becoming more safe again, many artists are going on tour. Yet, with the rise in ticket prices it can be a big hassle to find affordable tickets. Concert tickets can have various prices for the same concert, depending on which website you buy them from. Thus, in order to achieve the lowest price, users would have to cross-reference prices from various websites, which can take up their time and become tedious.\n",
        "\n",
        "### What is this tutorial?\n",
        "\n",
        "This tutorial will help users learn how to build software that can compare different ticket prices automatically using APIs. Along with building useful software, this tutorial will also help users develop an understanding of APIs.\n",
        "\n",
        "This tutorial can largely be separated into three sections: general overview of API, getting familiar with using API, and making it a little more complex. The users will start by understanding what API is and how it works, play around and get comfortable with using it, and then build the ticket comparison function at the end."
      ]
    },
    {
      "cell_type": "markdown",
      "metadata": {
        "id": "r-XALSOgmYJm"
      },
      "source": [
        "## Section 2: Understanding API\n",
        "\n",
        "### What is an API?\n",
        "The acronym “API” stands for “application programming interface.” But what does an API do?\n",
        "\n",
        "Think about your computer’s keyboard. When you type, you send data to the computer, and the computer responds by displaying the letter on the screen. You don’t have to mess with the inner workings of a computer to get a particular character to display – all you have to do is interact with the keyboard.\n",
        "\n",
        "An API works the same way, but with data – it should provide an intuitive interface for one digital system to send information to and from another digital system, without having to access the internal workings of either system.\n",
        "\n",
        "\n",
        "### How does an API work?\n",
        "Developers request data from an API endpoint, and the set of rules that surrounds data transfer is called the HTTP protocol.\n",
        "\n",
        "In HTTP, you send a REQUEST through the API endpoint, along with certain parameters, in order to retrieve data from the applications. and there are many different types of methods for a REQUEST. The two most common REQUEST methods are GET and PUT: GET usually retrieves data from the API's appliation for the user to have, while PUT usually changes data within the application. There are also other methods such as POST, PATCH, and DELETE.\n",
        "\n",
        "Once a REQUEST goes through, the API will do its thing, and then return a RESPONSE. The RESPONSE will contain a status code, content headers, and content data. Once this RESPONSE is received, the user can do whatever they want with the data.\n",
        "\n",
        "Your application can interact with many other applications simultaneously via APIs, since each application would have their own respective API with their own distinct functions. It's as if you were importing third-party libraries.\n",
        "\n",
        "\n",
        "### How will we use APIs?\n",
        "For this application, we will be interacting with Ticketmaster and SeatGeek APIs simultaneously to compare price tickets. First, we will guide you towards making REQUESTS from the Ticketmaster and SeatGeek APIs seperately, and then you will use what you've learned to retrieve prices from both websites and compare them.\n"
      ]
    },
    {
      "cell_type": "markdown",
      "metadata": {
        "id": "ASjE3l9qmYJo"
      },
      "source": [
        "## Section 3: Getting familar with API"
      ]
    },
    {
      "cell_type": "markdown",
      "metadata": {
        "id": "KWiyzzYrmYJo"
      },
      "source": [
        "**Register for API key**\n",
        "\n",
        "Before you start coding, you first need to register to use API. Most of the APIs require you to make an API key, which is a key associated with a specific user or application. APIs require users to register for 3 reasons:\n",
        "\n",
        "1. To authenticate users and ensure that only authorized users are able to use the API.\n",
        "2. To keep track of API usage by users and applications.\n",
        "3. To set usage limit of the API so that the resources are used in fair and responsible way.\n",
        "\n",
        "Make your SeatGeek API key here: https://seatgeek.com/account/develop\n",
        "Make your Ticketmaster API key here: https://developer-acct.ticketmaster.com/user/login"
      ]
    },
    {
      "cell_type": "markdown",
      "metadata": {
        "id": "8bcfYrvdmYJp"
      },
      "source": [
        "**On SeatGeek create your own account**\n",
        "![](./images/SG-ss-1.png)\n",
        "\n",
        "\n",
        "\n",
        "**Sign up for Seatgeek developer account**\n",
        "![](./images/SG-ss-2.png)\n",
        "\n",
        "\n",
        "\n",
        "**Register your new app with a name - you can put a link if you have one but its not necessary**\n",
        " ![](./images/SG-ss-3.png)\n",
        "\n",
        "\n",
        "**Now you'll be directed to page that gives you your client Id and \"secret\" password that you'll use later**\n",
        "**COPY IMMEDIATELY BECAUSE THE PASSWORD WILL DELETE**\n",
        "![](./images/SG-ss-4.png)\n",
        "\n"
      ]
    },
    {
      "cell_type": "markdown",
      "metadata": {
        "id": "4dkU1pUWmYJq"
      },
      "source": [
        "**On Ticketmaster create your own account**\n",
        "![](./images/TM-ss-1.png)\n",
        "\n",
        "**Fill in your information and if you are a student your \"company\" would be your school**\n",
        "![](./images/TM-ss-2.png)\n",
        "\n",
        "**Once you are logged in click on your project (YOURFIRSTNAME-APP) and click on it  so you can get your consumer key**\n",
        "![](./images/TM-ss-3.png)\n",
        "**Once you click you will see the drop down and can see your consumer key**\n",
        "![](./images/TM-ss-4.png)"
      ]
    },
    {
      "cell_type": "markdown",
      "metadata": {
        "id": "g-VQzOJKmYJr"
      },
      "source": [
        "After you have made your API keys, copy and past them in the below cell so that you can use them later.\n",
        "\n",
        "*Note that you should not share your API key with anyone. It should be kept private to you! Be careful of accidentally leaving the \"secrets\" in your code. In this tutorial, you are going to copy paste your API keys directly but in practice, your secrets should be kept in a separate file and the code should read the file when necessary.*"
      ]
    },
    {
      "cell_type": "code",
      "execution_count": null,
      "metadata": {
        "id": "sEiXUcG-mYJs"
      },
      "outputs": [],
      "source": [
        "# save your SeatGeek API key\n",
        "seatGeek_id = \"my_id\"\n",
        "seatGeek_pw = \"my_secret\"\n",
        "\n",
        "# save your Ticketmaster API key\n",
        "ticketMaster_key = \"consumer_key\""
      ]
    },
    {
      "cell_type": "markdown",
      "metadata": {
        "id": "Zx5D6BgvmYJu"
      },
      "source": [
        "### Import necessary modules\n",
        "\n",
        "Let's begin by importing modules that we will be using in this tutorial. A brief overview for each of the module is given below, but if you'd like to learn more about them, click the link to be redirected to their documentation!\n",
        "\n",
        "- [**json**](https://docs.python.org/3/library/json.html)\n",
        "    This is a module that allows you to encode and decode JSON data. With this, it becomes simple to make a Python object into JSON and vice versa.\n",
        "- [**requests**](https://requests.readthedocs.io/en/latest/)\n",
        "    This is a module that allows you to make HTTP requests (GET, POST, PUT, DELETE, etc.) to web servers in Python. It is a popular module to use with APIs because of its simplicity and the support for authentication (which we will be using:)\n"
      ]
    },
    {
      "cell_type": "code",
      "execution_count": null,
      "metadata": {
        "id": "AwC7O4yBmYJu"
      },
      "outputs": [],
      "source": [
        "# import necessary modules\n",
        "import json\n",
        "import requests"
      ]
    },
    {
      "cell_type": "markdown",
      "metadata": {
        "id": "16XKCFBmmYJv"
      },
      "source": [
        "### Making a request to APIs\n",
        "\n",
        "Now that we know what `get` method is and what arguments it takes, it is finally the time to make requests to the APIs! To do so, we first need to go to the documentations for each API so that we know how to make requests to them.\n",
        "\n",
        "### SeatGeek\n",
        "\n",
        "#### Authentication\n",
        "Let's start with SeatGeek. Open their [documentation](https://platform.seatgeek.com/) and first check its authentication method. Read through the authentication section and note that there are two options for authenticating yourself, (1) query string parameters, or (2) Basic Auth.\n",
        "Here, we are going to use `Basic Auth`.\n",
        "\n",
        "`Basic Auth` is a type of HTTP authentication where clients are required to provide user ID and password pairs to authenticate themselves. It is a simple and widely supported authentication method, but since the user ID and password pairs are transmitted in plain texts, it is not considered that secure. You can learn more about `Basic Auth` and other authentication types [here](https://developer.mozilla.org/en-US/docs/Web/HTTP/Authentication).\n",
        "\n",
        "#### Specifying parameters\n",
        "Okay, now that we know how to do authentication, go farther into the documentation. ...Hmm `Events` endpoint sound useful! Skimming through the documentation, it seems like there are a lot of arguments you can specify. For a start, let's try to use the `performers` argument.\n",
        "\n",
        "We want to search for events where Taylor Swift is the performer. Looking at the documentation, notice that we have to specify a field for performers argument which is either `id` or `slug`. We don't know `id` so let'g go with using `slug`. Also, looking at the example request, it seems that for slugs, values are passed as lower-case string with whitespace replaced with a `-`. So in our case, `Taylor Swift` will be passed in as `taylor-swift`.\n",
        "\n",
        "#### How to format authentication and parameters in `requests.get()`\n",
        "Now, let's go back to the previous section where we took a closer look at `requests.get()` method and see how we pass in authentication and parameters. Right away, we can find `params` and it takes a dictionary! Dictionary takes in `key:value` pair so if we want to pass `performers.slug` as our key and `taylor-swift` as our value, we would form it like this:"
      ]
    },
    {
      "cell_type": "code",
      "execution_count": null,
      "metadata": {
        "id": "MIT-gdwLmYJv"
      },
      "outputs": [],
      "source": [
        "parameters = {\"performers.slug\" : \"taylor-swift\"}"
      ]
    },
    {
      "cell_type": "markdown",
      "metadata": {
        "id": "JMCeuD0jmYJw"
      },
      "source": [
        "Note that we can add more to our parameters dictionary simply by adding `key:value` pairs.\n",
        "\n",
        "Next, let's find how to do authentication. We don't see it in the `get()` method... Let's go to the `request()` method where it outlines other parameters that you can pass in. There it is, `auth`! Nice, it does support Basic Auth and it takes a tuple. Let's make a tuple with our username and password in it:"
      ]
    },
    {
      "cell_type": "code",
      "execution_count": null,
      "metadata": {
        "id": "QqWA_K3WmYJw"
      },
      "outputs": [],
      "source": [
        "seatGeekAuth = (seatGeek_id, seatGeek_pw)"
      ]
    },
    {
      "cell_type": "markdown",
      "metadata": {
        "id": "dNn14yYgmYJx"
      },
      "source": [
        "Awesome! We have all of the information necessary to send a request to SeatGeek!\n",
        "\n",
        "**CODE** Try sending a GET request to `Events` endpoint with `performers` parameters set as `taylor-swift`.\n",
        "Hint: Don't forget to authenticate yourself!\n",
        "Hint: If you see something like `<Response [some number]>`, try to do `response.json()`. That will tell you a little bit more than just numbers!"
      ]
    },
    {
      "cell_type": "code",
      "execution_count": null,
      "metadata": {
        "id": "gUQ30jSvmYJy"
      },
      "outputs": [],
      "source": [
        "url = \"https://api.seatgeek.com/2/events?\"\n",
        "seatGeek_response = requests.get(url, params=parameters, auth=seatGeekAuth)\n",
        "print(seatGeek_response.json())"
      ]
    },
    {
      "cell_type": "markdown",
      "metadata": {
        "id": "OO051x9pmYJy"
      },
      "source": [
        "If you see something that looks like event information, then you have succeeded! Congrats to your first API call!\n",
        "\n"
      ]
    },
    {
      "cell_type": "markdown",
      "metadata": {
        "id": "-eY_SA9qmYJy"
      },
      "source": [
        "### Ticketmaster\n",
        "\n",
        "Now, let's try doing the same thing but in Ticketmaster. This time, you need to figure out how to make a request. Your best friend is the documentations so if you get stuck, go to them!"
      ]
    },
    {
      "cell_type": "markdown",
      "metadata": {
        "id": "M87dAFA6mYJy"
      },
      "source": [
        "**CODE** Send a GET request to Ticketmaster and find `events` where `Taylor Swift` is the performer."
      ]
    },
    {
      "cell_type": "code",
      "execution_count": null,
      "metadata": {
        "id": "y050tyrNmYJz"
      },
      "outputs": [],
      "source": [
        "TM_url = \"https://app.ticketmaster.com/discovery/v2/events.json?\"\n",
        "TM_parameters = {\n",
        "    \"apikey\" : ticketMaster_key,\n",
        "    \"keyword\" : \"taylor-swift\",\n",
        "    # the way \"Keyword\" works is you give it a word(or in our case an arist)\n",
        "    # and itll search any events or places that mention it\n",
        "    \"countryCode\" : \"US\"\n",
        "}\n",
        "\n",
        "\n",
        "ticketmaster_response = requests.get(TM_url, params=TM_parameters)\n",
        "print(ticketmaster_response.json())\n",
        "# our result is an embeded list of all of Taylor swift's era tour events\n"
      ]
    },
    {
      "cell_type": "markdown",
      "metadata": {
        "id": "0M1dIBlZmYJz"
      },
      "source": [
        "CLICK HERE to find more ticket master parameters: https://developer.ticketmaster.com/products-and-docs/apis/discovery-api/v2/\n",
        "#### Scroll down and you'll find this:\n",
        "![](./images/TM-ss-5-later.png)"
      ]
    },
    {
      "cell_type": "markdown",
      "metadata": {
        "id": "HLD35TbEmYJz"
      },
      "source": [
        "## Section 4: Make it a bit more complex"
      ]
    },
    {
      "cell_type": "markdown",
      "metadata": {
        "id": "GCC5_2AgmYJ0"
      },
      "source": [
        "In this final section, we are going to make a function that performs price comparison between the two platforms. We will walk through the process of implementing it using an example - MAMAMOO.\n",
        "\n",
        "**MAMAMOO** is a K-pop group that I am a big fan of and I know that they are coming to **California** to perform! My only goal is to see them so my priority is to find the cheapest ticket possible across platforms. Help me find it!\n",
        "\n",
        "*Note (Prof. Xanda) - this text was written in Spring 2023. To test this after MAMAMOO's concert, you may want to look online to find another musical group with an upcoming tour location and edit the text that follows for that show instead.*"
      ]
    },
    {
      "cell_type": "markdown",
      "metadata": {
        "id": "IovxwZuxmYJ0"
      },
      "source": [
        "Let's start off by saving parameters for SeatGeek and Ticketmaster. We know that the artist name is **MAMAMOO** and the state we are focusing is **California**, so let's save those information in a parameter dictionary."
      ]
    },
    {
      "cell_type": "code",
      "execution_count": null,
      "metadata": {
        "id": "T1Ihp_hPmYJ0"
      },
      "outputs": [],
      "source": [
        "seatGeekParams = {\n",
        "        \"performers.slug\" : \"mamamoo\",\n",
        "        \"venue.state\" : \"CA\"\n",
        "}\n",
        "\n",
        "ticketmasterParams = {\n",
        "        \"apikey\" : ticketMaster_key,\n",
        "        \"keyword\" : \"MAMAMOO\",\n",
        "        \"stateCode\" : \"CA\"\n",
        "}"
      ]
    },
    {
      "cell_type": "markdown",
      "metadata": {
        "id": "ycOJOi15mYJ0"
      },
      "source": [
        "From our previous section, we know how to make a GET request to each APIs and get a response. A request to SeatGeek's event endpoint would look like this:"
      ]
    },
    {
      "cell_type": "code",
      "execution_count": null,
      "metadata": {
        "id": "9f5aJDV5mYJ1"
      },
      "outputs": [],
      "source": [
        "seatGeek_api = \"https://api.seatgeek.com/2/events?\"\n",
        "seatGeek_esponse = requests.get(seatGeek_api, params=seatGeekParams, auth=seatGeekAuth)"
      ]
    },
    {
      "cell_type": "markdown",
      "metadata": {
        "id": "Ve2jPJz5mYJ1"
      },
      "source": [
        "And a request to Ticketmaster API would look like this:"
      ]
    },
    {
      "cell_type": "code",
      "execution_count": null,
      "metadata": {
        "id": "c2lyQgfZmYJ1"
      },
      "outputs": [],
      "source": [
        "ticketmaster_api = \"https://app.ticketmaster.com/discovery/v2/events.json?\"\n",
        "ticketmaster_response = requests.get(ticketmaster_api, params=ticketmasterParams)"
      ]
    },
    {
      "cell_type": "markdown",
      "metadata": {
        "id": "KlZ23eWNmYJ1"
      },
      "source": [
        "### Writing getEvents function\n",
        "\n",
        "Since the structure is very similar between the two of them, let's combine it into one function!\n",
        "\n",
        "**CODE** Write a function named `getEvents` where it has the following inputs and output:\n",
        "- Input\n",
        "    - website... a string 's' or 't' where 's' indicates that the function wants to make a request to SeatGeek and 't' indicates the same for Ticketmaster.\n",
        "    - params... a dictionary with the necessary parameters for the indicated website\n",
        "    - authentication (optional)... a tuple of key and secret of the user for authenticating them\n",
        "- Output\n",
        "    - The status code for the GET request made"
      ]
    },
    {
      "cell_type": "code",
      "execution_count": null,
      "metadata": {
        "id": "MONaxlaQmYJ2"
      },
      "outputs": [],
      "source": [
        "# Example answer\n",
        "def getEvents(website, parameter, authentication=()):\n",
        "    \"\"\"\n",
        "    do a get request to \"Events\" endpoint to the website ('s' for SeatGeek and 't' for Ticketmaster)\n",
        "    with the parameter. It returns the status code of the response\n",
        "    \"\"\"\n",
        "\n",
        "    if website == 's':  # make a request to seatGeek\n",
        "        seatGeek_api = \"https://api.seatgeek.com/2/events?\"\n",
        "        response = requests.get(seatGeek_api, params=parameter, auth=authentication)\n",
        "    else:  # make a request to Ticketmaster\n",
        "        ticketmaster_api = \"https://app.ticketmaster.com/discovery/v2/events.json?\"\n",
        "        response = requests.get(ticketmaster_api, params=parameter)\n",
        "\n",
        "    return response.status_code\n"
      ]
    },
    {
      "cell_type": "markdown",
      "metadata": {
        "id": "pir_lPG_mYJ2"
      },
      "source": [
        "**CODE** Let's upgrade our `getEvents` function so that if the status code is a success, then we save the response data in a JSON file. Otherwise, we print that there was an error with the request made.\n",
        "\n",
        "- Input\n",
        "    - website... a string 's' or 't' where 's' indicates that the function wants to make a request to SeatGeek and 't' indicates the same for Ticketmaster.\n",
        "    - params... a dictionary with the necessary parameters for the indicated website\n",
        "    - ***New*** filename... name of the json file where the response data will be stored (if request was a success)\n",
        "    - authentication (optional)... a tuple of key and secret of the user for authenticating them\n",
        "- Output\n",
        "    - If the request was a success, there will be a new file with the filename in the same directory as this notebook\n",
        "    - If the request was NOT a success, it will return the status code."
      ]
    },
    {
      "cell_type": "code",
      "execution_count": null,
      "metadata": {
        "id": "EY6kaBYzmYJ2"
      },
      "outputs": [],
      "source": [
        "def getEvents(website, parameter, filename, authentication=()):\n",
        "    \"\"\"\n",
        "    do a get request to \"Events\" endpoint to the website ('s' for SeatGeek and 't' for Ticketmaster)\n",
        "    with the parameter. If the request is a success, the data is dumped into a json file\n",
        "    \"\"\"\n",
        "\n",
        "    if website == 's':\n",
        "        seatGeek_api = \"https://api.seatgeek.com/2/events?\"\n",
        "        response = requests.get(seatGeek_api, params=parameter, auth=authentication)\n",
        "    else:\n",
        "        ticketmaster_api = \"https://app.ticketmaster.com/discovery/v2/events.json?\"\n",
        "        response = requests.get(ticketmaster_api, params=parameter)\n",
        "\n",
        "    if response.status_code == 200:  # the request was a success\n",
        "        print(\"sucessfully fetched the data\")\n",
        "\n",
        "        # save the json data into a file\n",
        "        with open(filename, \"w\") as outfile:\n",
        "            json.dump(response.json(), outfile, indent=2)\n",
        "\n",
        "        print(f\"Response data has been saved to {filename}\")\n",
        "\n",
        "    else:  # there was an error with the request\n",
        "        print(f\"There's a {response.status_code} error with your request\")"
      ]
    },
    {
      "cell_type": "markdown",
      "metadata": {
        "id": "9J6Zx6iQmYJ3"
      },
      "source": [
        "Let's try calling the functions!"
      ]
    },
    {
      "cell_type": "code",
      "execution_count": null,
      "metadata": {
        "id": "z7QM0HI3mYJ3"
      },
      "outputs": [],
      "source": [
        "getEvents('s', seatGeekParams, \"seatgeek.json\", seatGeekAuth)"
      ]
    },
    {
      "cell_type": "code",
      "execution_count": null,
      "metadata": {
        "id": "ySp9sRajmYJ3"
      },
      "outputs": [],
      "source": [
        "getEvents('t', ticketmasterParams, \"ticketmaster.json\")"
      ]
    },
    {
      "cell_type": "markdown",
      "metadata": {
        "id": "3azEOawnmYJ3"
      },
      "source": [
        "### Getting price information from json file\n",
        "\n",
        "Now that we have json files from both SeatGeek and Ticketmaster of all events that match artist name **MAMAMOO** and state **California**, let's get the price information for each event.\n",
        "\n",
        "#### Looking into JSON file\n",
        "Before we do any coding, go in to each json file and see where the price information is at. For SeatGeek, the data is in `stats`, and for Ticketmaster, it is in `priceRanges`.\n",
        "\n",
        "We see that for both of the JSON files, they have data on minimum price and maximum price. Let's write a function to get those info!\n",
        "\n",
        "#### Getting information from JSON\n",
        "It is relatively simple to grab information from JSON. I think it's easier to see it so here's an example: we are going to try to get the `id` of the first event in `events`.\n",
        "\n",
        "Note: The below code won't work since you don't have anything named \"jsonFile\"! When you are using the code, replace it with the filename of your choice."
      ]
    },
    {
      "cell_type": "code",
      "execution_count": null,
      "metadata": {
        "id": "VSZwmMj3mYJ4"
      },
      "outputs": [],
      "source": [
        "with open(jsonFile) as json_file:\n",
        "        data = json.load(json_file)\n",
        "\n",
        "id = data[\"events\"][0][\"id\"]"
      ]
    },
    {
      "cell_type": "markdown",
      "metadata": {
        "id": "kpJeoU9ImYJ4"
      },
      "source": [
        "1. We first need to open JSON file and save the JSON object into a dictionary - here we call the dictionary `data`.\n",
        "2. Then, we get the id info of the first information by specifying that the data is stored in `id` of the first object (`[0]`) in the array `events`.\n",
        "\n",
        "As you can see from this example, you have to know the structure of the file that you are going to pull information from beforehand so that you can specify where to find the data (if you want to do it simply). Thus, the function we are going to write for getting price from SeatGeek and Ticketmaster will be very specific to the two websites.\n"
      ]
    },
    {
      "cell_type": "markdown",
      "metadata": {
        "id": "vMlOVPprmYJ4"
      },
      "source": [
        "### Writing the function\n",
        "**CODE** Write a function `getPrice` that parses a JSON file and pull the price info for each event.\n",
        "\n",
        "- Input:\n",
        "    - website - indicates which website the data is from, either 's' for SeatGeek or 't' for Ticketmaster\n",
        "    - jsonFile - name of JSON file to parse through.\n",
        "- Output:\n",
        "    - A list of lists with id, venue, city, minimum price, and maximum price for each event.\n",
        "    - \\[\\[`id`, `venue`, `city`, `minPrice`, `maxPrice`\\], ...\\]"
      ]
    },
    {
      "cell_type": "code",
      "execution_count": null,
      "metadata": {
        "id": "A0_zvDCgmYJ4"
      },
      "outputs": [],
      "source": [
        "# Example answer\n",
        "def getPrice(website, jsonFile):\n",
        "    \"\"\"\n",
        "    Parse the json file and pull the price info for each event.\n",
        "    Inputs:\n",
        "        website - indicates which website the data is from, either 's' for SeatGeek or 't' for Ticketmaster\n",
        "        jsonFile - jsonFile to parse through.\n",
        "    Output:\n",
        "        A list of lists with id, venue, city, minimum price, and maximum price for each event.\n",
        "    \"\"\"\n",
        "    with open(jsonFile) as json_file:\n",
        "        data = json.load(json_file)\n",
        "\n",
        "    result = []\n",
        "    if website == 's':  # parse the SeatGeek file\n",
        "        for event in data[\"events\"]:\n",
        "            sg_url = event[\"url\"]\n",
        "            sg_venue = event[\"venue\"][\"name\"]\n",
        "            sg_city = event[\"venue\"][\"city\"]\n",
        "            sg_minPrice = event[\"stats\"][\"lowest_price\"]\n",
        "            sg_maxPrice = event[\"stats\"][\"highest_price\"]\n",
        "            print(f\"For event at {sg_venue}, {sg_city}, the minimum price is {sg_minPrice} and maximum price is {sg_maxPrice}\")\n",
        "            result.append([sg_url, sg_venue, sg_city, sg_minPrice, sg_maxPrice])  # apeend the current event's parsed data to result array\n",
        "    else:  # parse the Ticketmaster file\n",
        "        for event in data[\"_embedded\"][\"events\"]:\n",
        "            tm_url = event[\"url\"]\n",
        "            tm_venue = event[\"_embedded\"][\"venues\"][0][\"name\"]\n",
        "            tm_city = event[\"_embedded\"][\"venues\"][0][\"city\"][\"name\"]\n",
        "            tm_minPrice = event[\"priceRanges\"][0][\"min\"]\n",
        "            tm_maxPrice = event[\"priceRanges\"][0][\"max\"]\n",
        "            print(f\"For event at {tm_venue}, {tm_city}, the minimum price is {tm_minPrice} and maximum price is {tm_maxPrice}\")\n",
        "            result.append([tm_url, tm_venue, tm_city, tm_minPrice, tm_maxPrice])  # apeend the current event's parsed data to result array\n",
        "    return result"
      ]
    },
    {
      "cell_type": "markdown",
      "metadata": {
        "id": "UprCFc7umYJ5"
      },
      "source": [
        "Once the function is complete, save the price information from SeatGeek and Ticketmaster into a variable respectively."
      ]
    },
    {
      "cell_type": "code",
      "execution_count": null,
      "metadata": {
        "id": "wNgkd3qNmYJ5"
      },
      "outputs": [],
      "source": [
        "sgList = getPrice('s', \"seatgeek.json\")\n",
        "tmList = getPrice('t', \"ticketmaster.json\")"
      ]
    },
    {
      "cell_type": "markdown",
      "metadata": {
        "id": "eu4ZtNmkmYJ5"
      },
      "source": [
        "### Comparing the price to find the cheapest ticket\n",
        "\n",
        "At this point, we have all of the information we need to perform ticket comparison. So let's work on our final step: actually writing the function to do price comparison!\n",
        "\n",
        "We already have a list of lists with each list containing information about an event. So this step should only be a matter of pulling the correct information and comparing minimum prices for each.\n",
        "\n",
        "**CODE**\n",
        "Write a function `comparePrice` that given a list of lists (containing info for each event) for both SeatGeek and Ticketmaster, it prints out **which website has the best price for a specific concert** (in case there are multiple events that match the initial criteria - in our example `MAMAMOO` and `CA`). It will also print out the URL where you can buy the ticket!\n",
        "\n",
        "- Input:\n",
        "    - seatGeekList ... A list of list with price from SeatGeek\n",
        "    - TicketmasterList ... A list of list with price info from Ticketmaster"
      ]
    },
    {
      "cell_type": "code",
      "execution_count": null,
      "metadata": {
        "id": "a7f03DyhmYJ5"
      },
      "outputs": [],
      "source": [
        "import sys\n",
        "\n",
        "def comparePrice(seatGeekList, ticketMasterList):\n",
        "    \"\"\"\n",
        "    Input:\n",
        "        seatGeekList ... A list of list with id, venue, city, minimum price, and\n",
        "            maximum price info from SeatGeek\n",
        "        TicketmasterList ... A list of list with id, venue, city, minimum price,\n",
        "            and maximum price info from Ticketmaster\n",
        "    Output:\n",
        "        None\n",
        "\n",
        "    Prints out the website that has the cheapest value with the location of the event\n",
        "    and a URL where you can buy the ticket.\n",
        "    \"\"\"\n",
        "    minSeatGeek = sys.maxsize\n",
        "    minTicketmaster = sys.maxsize\n",
        "\n",
        "    for event in seatGeekList:\n",
        "        if event[3] < minSeatGeek:  # if the minimum price is smaller than current SeatGeek min price\n",
        "            minSeatGeek = event[3]  # set minSeatGeek to be that price\n",
        "            minSeatGeekInfo = event[:3]  # save the information\n",
        "\n",
        "    for event in ticketMasterList:\n",
        "         if event[3] < minTicketmaster:  # if the minimum price is smaller than the current Ticketmaster min\n",
        "            minTicketmaster = event[3]  # set minTicketmaster to be that price\n",
        "            minTicketmasterInfo = event[:3]  # save the information\n",
        "\n",
        "    if minSeatGeek < minTicketmaster:\n",
        "        url, venue, city = minSeatGeekInfo\n",
        "        price = minSeatGeek\n",
        "        website = \"SeatGeek\"\n",
        "\n",
        "    else:\n",
        "        url, venue, city = minTicketmasterInfo\n",
        "        price = minTicketmaster\n",
        "        website = \"Ticketmaster\"\n",
        "    print(f\"{website} has the best price with {price} for {venue}, {city}\")\n",
        "    print(f\"To book the ticket, head to {url}\")"
      ]
    },
    {
      "cell_type": "code",
      "execution_count": null,
      "metadata": {
        "id": "BvyNsUbHmYJ6",
        "scrolled": false
      },
      "outputs": [],
      "source": [
        "comparePrice(sgList, tmList)"
      ]
    },
    {
      "cell_type": "markdown",
      "metadata": {
        "id": "EJZvInJJmYJ6"
      },
      "source": [
        "## Congrats!\n",
        "\n",
        "Yay! You have successfully performed price comparison using data that you retrieved from SeatGeek and Ticketmaster using their APIs! To recap, in this tutorial, you have done the following:\n",
        "\n",
        "- Gained a better understanding of what API is and how it works\n",
        "- Worked with RESTful APIs which involves authentication, making GET requests, and passing parameters.\n",
        "- Parsed and processed JSON data to obtain necessary information.\n",
        "- Built a software from scratch using multiple APIs and combining them in a meaningful way.\n",
        "\n",
        "We hope that this tutorial was meaningful for you and you feel comfortable using API now:)"
      ]
    }
  ],
  "metadata": {
    "colab": {
      "provenance": []
    },
    "kernelspec": {
      "display_name": "Python 3 (ipykernel)",
      "language": "python",
      "name": "python3"
    },
    "language_info": {
      "codemirror_mode": {
        "name": "ipython",
        "version": 3
      },
      "file_extension": ".py",
      "mimetype": "text/x-python",
      "name": "python",
      "nbconvert_exporter": "python",
      "pygments_lexer": "ipython3",
      "version": "3.11.0"
    },
    "toc": {
      "base_numbering": 1,
      "nav_menu": {},
      "number_sections": true,
      "sideBar": true,
      "skip_h1_title": false,
      "title_cell": "Table of Contents",
      "title_sidebar": "Contents",
      "toc_cell": true,
      "toc_position": {},
      "toc_section_display": true,
      "toc_window_display": false
    }
  },
  "nbformat": 4,
  "nbformat_minor": 0
}
