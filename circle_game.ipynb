{
  "cells": [
    {
      "cell_type": "markdown",
      "metadata": {
        "id": "qmeppCgVJsHf"
      },
      "source": [
        "# Creating Circle Game in Python\n",
        "*Mathus Leungpathomaram, Ryder Mitchell, Christian Valdovinos*\n",
        "\n",
        "Welcome to our tutorial on how to make Circle Game using Python! This tutorial is intended for those who already have experience with Python. Specifically, with the following concepts: Variables, Lists, Conditions + If/else statements, Loops, and Functions.\n",
        "\n",
        "## Objective\n",
        "This tutorial is intended to teach beginner programmers how to apply their existing programming knowledge using libraries to create an interesting and interactive project."
      ]
    },
    {
      "cell_type": "markdown",
      "metadata": {
        "id": "9MLD5GVQHA--"
      },
      "source": [
        "# What is Circle Game?\n",
        "If you aren't familiar with Circle Game, it is a game where you begin as a small circle, navigating around trying to avoid being eaten by bigger circles and you try to eat smaller circles which make your player grow. The objective of the game is to eat as many circles as possible and increase your score before you ultimately get eaten by another circle.\n",
        "\n",
        "In this tutorial we will be learning how we can use Andrew Merill's `graphics` library alongside the `random` library in Python to create the Circle Game."
      ]
    },
    {
      "cell_type": "markdown",
      "metadata": {
        "id": "KOxROBTiHyBG"
      },
      "source": [
        "# Tutorial"
      ]
    },
    {
      "cell_type": "markdown",
      "metadata": {
        "id": "28XMg9MyVFDz"
      },
      "source": [
        "# Imports and Setup\n",
        "\n"
      ]
    },
    {
      "cell_type": "markdown",
      "metadata": {
        "id": "BzdANucTVO6d"
      },
      "source": [
        "To run the code segments we will be creating later, we will need to import libraries and create some functions.\n",
        "\n",
        "Importing `request` from the `urllib` library will let us download files from a url and save it locally using python. The `os` library will allow us to run terminal commands on our computer, which will help write and run the code we will be creating for our tutorial. To import these we write the following statements:"
      ]
    },
    {
      "cell_type": "code",
      "execution_count": null,
      "metadata": {
        "id": "jeZFU_PJVhPb"
      },
      "outputs": [],
      "source": [
        "from urllib import request\n",
        "import os"
      ]
    },
    {
      "cell_type": "markdown",
      "metadata": {
        "id": "bPV1K5NpVufq"
      },
      "source": [
        "Then we define the following functions which allow us to write and run the script we are providing as an input:"
      ]
    },
    {
      "cell_type": "code",
      "execution_count": null,
      "metadata": {
        "id": "r0Z1RyIMWHA1"
      },
      "outputs": [],
      "source": [
        "def writeScript(scriptString, scriptName):\n",
        "    f = open(scriptName, \"w\")\n",
        "    f.write(''.join(str(line) for line in scriptString))\n",
        "    f.close()\n",
        "    \n",
        "def runScript(scriptName):\n",
        "    dir_path = os.path.dirname(os.path.realpath(scriptName))\n",
        "    file_path = os.path.join(dir_path, scriptName)\n",
        "    os.system(f'python {file_path}')\n",
        "\n",
        "def writeAndRun(scriptString, scriptName):\n",
        "    writeScript(scriptString, scriptName)\n",
        "    runScript(scriptName)"
      ]
    },
    {
      "cell_type": "markdown",
      "metadata": {
        "id": "bNWo_0aXWqvt"
      },
      "source": [
        "While we'd love to be able to play games on a Google Colab file, it's not possible without some big compromises. To find out more about this (and how to run PyGame in Google Collab!) you can visit the link here: \n",
        "https://stackoverflow.com/questions/57043905/how-can-we-use-pygame-on-google-colab\n",
        "\n",
        "To work around this, we're going to be running this tutorial in a Jupyter Notebook locally. If you're reading this in a Google Colab notebook, we would like to ask that you download the notebook as a .ipynb file (under file -> Download -> Download .ipynb).\n",
        "\n",
        "The functions defined above will let us play PyGame locally from a Jupyter Notebook. `writeScript` will write the PyGame code to a local .py file, `runScript` will run the script so you can play it, and `writeAndRun` is what we will call when playing games. \n",
        "\n",
        "You don't need to understand how those functions work, nor do you need to know about them when making PyGames on your own. Whenever you see `writeAndRun` in the Notebook just know we're going to launch a PyGame window!"
      ]
    },
    {
      "cell_type": "markdown",
      "metadata": {
        "id": "wO68PHmMXkMR"
      },
      "source": [
        "Here we're downloading and saving Andrew's graphics library. Normally libraries in Python are installed by using a package manager like pip, and then imported in our script by using import. However, Andrew's graphics library is installed by placing the library in the same directory as the Jupyter Notebook. The code below will make a request to download the Andrew's library from the url which is then saved as `graphics.py`. After running this cell you should see wherever you saved this Jupyter Notebook `graphics.py`!\n",
        "Feel free to look through Andrew's graphics library! It's a useful library which makes getting started making PyGames much easier!\n",
        "Documentation and more information about Andrew's library can be found here:\n",
        "https://inside.catlin.edu/site/compsci/resources/python/graphics/PythonGraphics.html"
      ]
    },
    {
      "cell_type": "code",
      "execution_count": null,
      "metadata": {
        "id": "8LK5M0aIXhYE",
        "outputId": "ee090c3f-f5fc-452f-92d7-69cdf1c410f7",
        "colab": {
          "base_uri": "https://localhost:8080/"
        }
      },
      "outputs": [
        {
          "output_type": "execute_result",
          "data": {
            "text/plain": [
              "('graphics.py', <http.client.HTTPMessage at 0x7f52c549d7b0>)"
            ]
          },
          "metadata": {},
          "execution_count": 3
        }
      ],
      "source": [
        "remote_url = 'https://inside.catlin.edu/site/compsci/resources/python/graphics/graphics.py'\n",
        "local_file = 'graphics.py'\n",
        "request.urlretrieve(remote_url, local_file)"
      ]
    },
    {
      "cell_type": "markdown",
      "metadata": {
        "id": "VFT-SfXZIeav"
      },
      "source": [
        "The last thing we're going to do is run the cell below to save our code snippets. This will allow us to refer to them later, so when we want to play a specific part of the Circle Game tutorial we will simply refer to one of these code snippets."
      ]
    },
    {
      "cell_type": "code",
      "execution_count": null,
      "metadata": {
        "id": "elY6K3jJIeau"
      },
      "outputs": [],
      "source": [
        "cell1 = ['from graphics import *\\n', 'from random import *\\n', 'from math import *\\n', '\\n', 'WIDTH = 800\\n', 'HEIGHT = 600\\n', '\\n', 'def start(world):\\n', '    pass\\n', '\\n', 'def update(world):\\n', '    pass\\n', '\\n', 'def draw(world):\\n', '    pass\\n', '\\n', 'makeGraphicsWindow(WIDTH, HEIGHT, False)\\n', 'runGraphics(start, update, draw)']\n",
        "cell2 = ['from graphics import *\\n', 'from random import *\\n', 'from math import *\\n', '\\n', 'WIDTH = 800\\n', 'HEIGHT = 600\\n', '\\n', 'def start(world):\\n', \"    setBackground('black')  # This sets the background to black\\n\", '    hideMouse()             # This hides the mouse\\n', '\\n', 'def update(world):\\n', '    pass\\n', '\\n', 'def draw(world):\\n', '    (x, y) = getMousePosition()\\n', \"    fillCircle(x, y, 10, 'white')\\n\", '\\n', 'makeGraphicsWindow(WIDTH, HEIGHT, False)\\n', 'runGraphics(start, update, draw)']\n",
        "cell3 = ['from graphics import *\\n', 'from random import *\\n', 'from math import *\\n', '\\n', 'WIDTH = 800\\n', 'HEIGHT = 600\\n', '\\n', 'class Circle:\\n', '    \\n', '    def __init__(self):\\n', '        self.x = randint(0, WIDTH)\\n', '        self.y = randint(0, HEIGHT)\\n', '        self.size = 2\\n', \"        self.color = 'blue'\\n\", '    \\n', '    def draw(self):\\n', '        fillCircle(self.x, self.y, self.size, self.color)\\n', '\\n', 'def start(world):\\n', \"    setBackground('black')\\n\", '    hideMouse()\\n', '    world.circles = [Circle() for _ in range(30)]\\n', '\\n', 'def update(world):\\n', '    pass\\n', '\\n', 'def draw(world):\\n', '    for circle in world.circles:\\n', '        circle.draw()\\n', '\\n', '    (x, y) = getMousePosition()\\n', \"    fillCircle(x, y, 10, 'white')\\n\", '\\n', 'makeGraphicsWindow(WIDTH, HEIGHT, False)\\n', 'runGraphics(start, update, draw)']\n",
        "cell4 = ['from graphics import *\\n', 'from random import *\\n', 'from math import *\\n', '\\n', 'WIDTH = 800\\n', 'HEIGHT = 600\\n', '\\n', 'class Circle:\\n', '    \\n', '    def __init__(self):\\n', '        self.x = randint(0, WIDTH)\\n', '        self.y = randint(0, HEIGHT)\\n', '        # Initialize velocity here!\\n', '        self.dx = (2 * random() - 1) * 2\\n', '        self.dy = (2 * random() - 1) * 2\\n', '        self.size = 2\\n', \"        self.color = 'blue'\\n\", '    \\n', '    def update(self):\\n', '        # Move the circles\\n', '        self.x = (self.x + self.dx + self.size * 2) % (WIDTH + self.size * 4) - self.size * 2\\n', '        self.y = (self.y + self.dy + self.size * 2) % (HEIGHT + self.size * 4) - self.size * 2\\n', '\\n', '    def draw(self):\\n', '        fillCircle(self.x, self.y, self.size, self.color)\\n', '\\n', '\\n', '\\n', 'def start(world):\\n', '\\n', \"    setBackground('black')\\n\", '\\n', '    hideMouse()\\n', '\\n', '    world.circles = [Circle() for _ in range(30)]\\n', '\\n', '\\n', '\\n', 'def update(world):\\n', '    for circle in world.circles:\\n', '        circle.update()\\n', '\\n', '\\n', '\\n', 'def draw(world):\\n', '\\n', '    for circle in world.circles:\\n', '\\n', '        circle.draw()\\n', '\\n', '\\n', '\\n', '    (x, y) = getMousePosition()\\n', '\\n', \"    fillCircle(x, y, 10, 'white')\\n\", '\\n', '\\n', '\\n', 'makeGraphicsWindow(WIDTH, HEIGHT, False)\\n', '\\n', 'runGraphics(start, update, draw)']\n",
        "cell5 = ['from graphics import *\\n', 'from random import *\\n', 'from math import *\\n', '\\n', 'WIDTH = 800\\n', 'HEIGHT = 600\\n', '\\n', 'CIRCLE_START_SIZE = 2\\n', 'COLORS = [\\n', '    (255, 255, 0), (255, 0, 255), (0, 255, 255),\\n', '    (255, 0, 0), (0, 255, 0), (0, 0, 255)\\n', ']\\n', 'MAX_V = 2\\n', '\\n', '\\n', 'class Circle:\\n', '\\n', '    SIZE = CIRCLE_START_SIZE\\n', '\\n', '    def __init__(self):\\n', '        # random number\\n', '        rx = 4 * random()\\n', '        ry = (rx + 1) % 4\\n', '        # Position computation\\n', '        self.x = min(max(abs(2 - rx) - 0.5, 0), 1) * (WIDTH + 4 * Circle.SIZE) - 2 * Circle.SIZE\\n', '        self.y = min(max(abs(2 - ry) - 0.5, 0), 1) * (HEIGHT + 4 * Circle.SIZE) - 2 * Circle.SIZE\\n', '        \\n', '        self.dx = (2 * random() - 1) * MAX_V\\n', '        self.dy = (2 * random() - 1) * MAX_V\\n', '        self.size = Circle.SIZE\\n', '        self.color = COLORS[randint(0, len(COLORS) - 1)]\\n', '        self.active = True\\n', '        Circle.SIZE += 1\\n', '        \\n', '    \\n', '    def update(self):\\n', '        # Move the circles\\n', '        self.x = (self.x + self.dx + self.size * 2) % (WIDTH + self.size * 4) - self.size * 2\\n', '        self.y = (self.y + self.dy + self.size * 2) % (HEIGHT + self.size * 4) - self.size * 2\\n', '\\n', '    def draw(self):\\n', '        fillCircle(self.x, self.y, self.size, self.color)\\n', '\\n', '\\n', '\\n', 'def start(world):\\n', '\\n', \"    setBackground('black')\\n\", '\\n', '    hideMouse()\\n', '\\n', '    world.circles = [Circle() for _ in range(30)]\\n', '\\n', '\\n', '\\n', 'def update(world):\\n', '    for circle in world.circles:\\n', '        circle.update()\\n', '\\n', '\\n', '\\n', 'def draw(world):\\n', '\\n', '    for circle in world.circles:\\n', '\\n', '        circle.draw()\\n', '\\n', '\\n', '\\n', '    (x, y) = getMousePosition()\\n', '\\n', \"    fillCircle(x, y, 10, 'white')\\n\", '\\n', '\\n', '\\n', 'makeGraphicsWindow(WIDTH, HEIGHT, False)\\n', '\\n', 'runGraphics(start, update, draw)']\n",
        "cell6 = ['from graphics import *\\n', 'from random import *\\n', 'from math import *\\n', '\\n', 'WIDTH = 800\\n', 'HEIGHT = 600\\n', '\\n', 'START_SIZE = 10\\n', '\\n', 'CIRCLE_START_SIZE = 2\\n', 'COLORS = [\\n', '    (255, 255, 0), (255, 0, 255), (0, 255, 255),\\n', '    (255, 0, 0), (0, 255, 0), (0, 0, 255)\\n', ']\\n', 'MAX_V = 2\\n', 'MAX_ACTIVE = 30\\n', '\\n', '\\n', 'class Circle:\\n', '\\n', '    SIZE = CIRCLE_START_SIZE\\n', '\\n', '    def __init__(self):\\n', '        # random number\\n', '        rx = 4 * random()\\n', '        ry = (rx + 1) % 4\\n', '        # Position computation\\n', '        self.x = min(max(abs(2 - rx) - 0.5, 0), 1) * (WIDTH + 4 * Circle.SIZE) - 2 * Circle.SIZE\\n', '        self.y = min(max(abs(2 - ry) - 0.5, 0), 1) * (HEIGHT + 4 * Circle.SIZE) - 2 * Circle.SIZE\\n', '        \\n', '        self.dx = (2 * random() - 1) * MAX_V\\n', '        self.dy = (2 * random() - 1) * MAX_V\\n', '        self.size = Circle.SIZE\\n', '        self.color = COLORS[randint(0, len(COLORS) - 1)]\\n', '        self.active = True\\n', '        Circle.SIZE += 1\\n', '        \\n', '    \\n', '    # Now returns whether the player is alive.\\n', '    def update(self, x, y, r):\\n', '        # Move the circle\\n', '        self.x = (self.x + self.dx + self.size * 2) % (WIDTH + self.size * 4) - self.size * 2\\n', '        self.y = (self.y + self.dy + self.size * 2) % (HEIGHT + self.size * 4) - self.size * 2\\n', '\\n', '        # See if the distance between the centers is less than the sum of the radii\\n', '        if (self.x - x)**2 + (self.y - y)**2 <= (r + self.size)**2:\\n', '            # Circle is active if its radius is smaller than player radius.\\n', '            if self.size < r:\\n', '                self.active = False\\n', '            if self.size > r:\\n', '                return False\\n', '        return True\\n', '\\n', '    def draw(self):\\n', '        fillCircle(self.x, self.y, self.size, self.color)\\n', '\\n', '\\n', '\\n', 'def start(world):\\n', \"    setBackground('black')\\n\", '    hideMouse()\\n', '    # Change initial value here\\n', '    world.circles = []\\n', '    world.size = START_SIZE\\n', '    world.alive = True\\n', '    \\n', 'def update(world):\\n', '    # Adds the appropriate number of circles.\\n', '    for _ in range(MAX_ACTIVE - len(world.circles)):\\n', '        world.circles.append(Circle())\\n', '    (x, y) = getMousePosition()\\n', '    for circle in world.circles:\\n', '        # Update world.alive\\n', '        world.alive = circle.update(x, y, world.size) and world.alive\\n', '        if world.alive and not circle.active:\\n', '            # Update world.size\\n', '            world.size += 1\\n', '    \\n', '    # Now, circles should only be removed if the player is alive\\n', '    if world.alive:\\n', '        world.circles = [circle for circle in world.circles if circle.active]\\n', '\\n', 'def draw(world):\\n', '    for circle in world.circles:\\n', '        circle.draw()\\n', '\\n', '    (x, y) = getMousePosition()\\n', '    # Replace the circle size with the world.size\\n', \"    fillCircle(x, y, world.size, 'white')\\n\", '\\n', '\\n', '\\n', 'makeGraphicsWindow(WIDTH, HEIGHT, False)\\n', '\\n', 'runGraphics(start, update, draw)']\n",
        "cell7 = ['from graphics import *\\n', 'from random import *\\n', 'from math import *\\n', '\\n', 'WIDTH = 800\\n', 'HEIGHT = 600\\n', '\\n', 'START_SIZE = 10\\n', 'CIRCLE_START_SIZE = 2\\n', 'MAX_ACTIVE = 30\\n', 'MAX_V = 2\\n', '\\n', 'COLORS = [\\n', '    (255, 255, 0), (255, 0, 255), (0, 255, 255),\\n', '    (255, 0, 0), (0, 255, 0), (0, 0, 255)\\n', ']\\n', '\\n', 'class Circle:\\n', '    \\n', '    SIZE = CIRCLE_START_SIZE\\n', '    \\n', '    def __init__(self):\\n', '        rx = 4 * random()\\n', '        ry = (rx + 1) % 4\\n', '        self.x = min(max(abs(2 - rx) - 0.5, 0), 1) * (WIDTH + 4 * Circle.SIZE) - 2 * Circle.SIZE\\n', '        self.y = min(max(abs(2 - ry) - 0.5, 0), 1) * (HEIGHT + 4 * Circle.SIZE) - 2 * Circle.SIZE\\n', '        self.dx = (2 * random() - 1) * MAX_V\\n', '        self.dy = (2 * random() - 1) * MAX_V\\n', '        self.size = Circle.SIZE\\n', '        self.color = COLORS[randint(0, len(COLORS) - 1)]\\n', '        self.active = True\\n', '        Circle.SIZE += 1\\n', '    \\n', '    def update(self, x, y, r):\\n', '        self.x = (self.x + self.dx + self.size * 2) % (WIDTH + self.size * 4) - self.size * 2\\n', '        self.y = (self.y + self.dy + self.size * 2) % (HEIGHT + self.size * 4) - self.size * 2\\n', '        if (self.x - x)**2 + (self.y - y)**2 <= (r + self.size)**2:\\n', '            if self.size < r:\\n', '                self.active = False\\n', '            if self.size > r:\\n', '                return False\\n', '        return True\\n', '    \\n', '    def draw(self):\\n', '        fillCircle(self.x, self.y, self.size, self.color)\\n', '\\n', 'def start(world):\\n', \"    setBackground('black')\\n\", '    hideMouse()\\n', '    world.circles = []\\n', '    world.size = START_SIZE\\n', '    world.alive = True\\n', '\\n', 'def update(world):\\n', '    for _ in range(MAX_ACTIVE - len(world.circles)):\\n', '        world.circles.append(Circle())\\n', '    \\n', '    (x, y) = getMousePosition()\\n', '    for circle in world.circles:\\n', '        world.alive = circle.update(x, y, world.size) and world.alive\\n', '        if world.alive and not circle.active:\\n', '            world.size += 1\\n', '    \\n', '    if world.alive:\\n', '        world.circles = [circle for circle in world.circles if circle.active]\\n', '    else:\\n', '        if isKeyPressed(\"space\"):\\n', '            world.circles = []\\n', '            world.size = START_SIZE\\n', '            world.alive = True\\n', '            Circle.SIZE = CIRCLE_START_SIZE\\n', '\\n', 'def draw(world):\\n', '    for circle in world.circles:\\n', '        circle.draw()\\n', '    \\n', '    if world.alive:\\n', '        (x, y) = getMousePosition()\\n', \"        fillCircle(x, y, world.size, 'white')\\n\", '    else:\\n', '        (text1, size1) = (\"Game Over!\", 60)\\n', '        ss = sizeString(text1, size1)\\n', \"        drawString(text1, WIDTH/2 - ss[0]/2, HEIGHT/2 - ss[1] - 10, size1, 'white')\\n\", '        \\n', '        (text2, size2) = (f\"Score: {(world.size - START_SIZE)}\", 40)\\n', '        ss = sizeString(text2, size2)\\n', \"        drawString(text2, WIDTH/2 - ss[0]/2, HEIGHT/2 + 10, size2, 'white')\\n\", '\\n', 'makeGraphicsWindow(WIDTH, HEIGHT, False)\\n', 'runGraphics(start, update, draw)']\n"
      ]
    },
    {
      "cell_type": "markdown",
      "metadata": {
        "id": "RxM260E-tKTd"
      },
      "source": [
        "# Creating Game Window"
      ]
    },
    {
      "cell_type": "markdown",
      "metadata": {
        "id": "ulCPinfTJ5IG"
      },
      "source": [
        "Let's start with a basic program outline. We want to create a window to display the game by using `makeGraphicsWindow`, and we want 3 functions (`start`, `update`, `draw`) to be passed into the function `runGraphics`.\n",
        "\n",
        "The parameter `world` passed to all three functions. `world` is an object, which means that by creating class variables, we can \"share\" information across functions.\n",
        "\n",
        "`start` is called once at the beginning of the program. This is where we will initialize variables later. For instance, we could place the line `world.hello = 42` in `start` to have the value for `hello` start off as `42` in the game's world.\n",
        "\n",
        "`update` and `draw` are then called repeatedly. We will be placing game logic in `update` and drawing objects in `draw`. Observe that we can access the class variables created in other functions due to the passed parameter `world`.\n",
        "\n"
      ]
    },
    {
      "cell_type": "markdown",
      "metadata": {
        "id": "1CfBIpj8I_C_"
      },
      "source": [
        "```python\n",
        "from graphics import *\n",
        "import random\n",
        "\n",
        "WIDTH = 800\n",
        "HEIGHT = 600\n",
        "\n",
        "def start(world):\n",
        "    pass\n",
        "\n",
        "def update(world):\n",
        "    pass\n",
        "\n",
        "def draw(world):\n",
        "    pass\n",
        "\n",
        "makeGraphicsWindow(WIDTH, HEIGHT, False)\n",
        "runGraphics(start, update, draw)\n",
        "```"
      ]
    },
    {
      "cell_type": "markdown",
      "metadata": {
        "id": "mla2OfhJMU7s"
      },
      "source": [
        "Now let's run the code we've written thus far! This will create a blank pygame window which we will be adding to in the following section."
      ]
    },
    {
      "cell_type": "code",
      "execution_count": null,
      "metadata": {
        "id": "73Q77GxUJ5ku"
      },
      "outputs": [],
      "source": [
        "writeAndRun(cell1, \"CreateGameWindow.py\")"
      ]
    },
    {
      "cell_type": "markdown",
      "metadata": {
        "id": "kddccwEltQ8P"
      },
      "source": [
        "# Add Player"
      ]
    },
    {
      "cell_type": "markdown",
      "metadata": {
        "id": "Do24N6QvNomX"
      },
      "source": [
        "We now have a basic structure! However, all that appears is a blank white window. Let's set the background color to `black`, and draw a circle at the position of the mouse.\n",
        "\n",
        "We first set the background to black in our start function by calling `setBackground('black')`.\n",
        "\n",
        "We can then obtain the position of the mouse by calling the function `getMousePosition` and draw the circle at that position by calling `fillCircle` in our `draw` function. `fillCircle` takes in 4 parameters: the x coordinate, the y coordinate, the radius of the circle, and its color."
      ]
    },
    {
      "cell_type": "markdown",
      "metadata": {
        "id": "oWyFKjKHK3v8"
      },
      "source": [
        "```python\n",
        "from graphics import *\n",
        "import random\n",
        "\n",
        "WIDTH = 800\n",
        "HEIGHT = 600\n",
        "\n",
        "def start(world):\n",
        "    setBackground('black')\n",
        "    hideMouse()\n",
        "\n",
        "def update(world):\n",
        "    pass\n",
        "\n",
        "def draw(world):\n",
        "    (x, y) = getMousePosition()\n",
        "    fillCircle(x, y, 10, 'white')\n",
        "\n",
        "makeGraphicsWindow(WIDTH, HEIGHT, False)\n",
        "runGraphics(start, update, draw)\n",
        "```"
      ]
    },
    {
      "cell_type": "markdown",
      "metadata": {
        "id": "kcvVWt5HNEzQ"
      },
      "source": [
        "If you run the cell below you will see a black background with a circle that follows your mouse cursor around the window."
      ]
    },
    {
      "cell_type": "code",
      "execution_count": null,
      "metadata": {
        "id": "fqVGAAyyNo9S"
      },
      "outputs": [],
      "source": [
        "writeAndRun(cell2, \"AddPlayer.py\")"
      ]
    },
    {
      "cell_type": "markdown",
      "metadata": {
        "id": "Way6fpyxtZZ_"
      },
      "source": [
        "# Add Enemies"
      ]
    },
    {
      "cell_type": "markdown",
      "metadata": {
        "id": "xrPCHB4cP9jr"
      },
      "source": [
        "One circle is cool and all, but we want to draw many circles on the screen! Let's first create a `Circle` class and make a list with 30 circles.\n",
        "\n",
        "Inside the `Circle` class, we initialize a few attributes: a random `x` and `y` position, a `size`, and a `color`. We will be using the `random` library to create the random velocities, which can be used by importing it at the top of the file just like we have with the `graphics` library. Observe that the two import statements are written differently. `from graphics import *` lets us use the functions in the graphics library as they are named in that file, while `import random` requires us to start all functions from `random` with `random.`.\n",
        "\n",
        "To create the list of circles, we define `world.circles` in `start(world)`. Note that we start this variable with `world.`, since omitting that would make it a local variable, which would only exist in the function `start(world)`."
      ]
    },
    {
      "cell_type": "markdown",
      "metadata": {
        "id": "84QsMYMULAba"
      },
      "source": [
        "```python\n",
        "from graphics import *\n",
        "import random\n",
        "\n",
        "WIDTH = 800\n",
        "HEIGHT = 600\n",
        "\n",
        "class Circle:\n",
        "    \n",
        "    def __init__(self):\n",
        "        self.x = random.randint(0, WIDTH)\n",
        "        self.y = random.randint(0, HEIGHT)\n",
        "        self.size = 2\n",
        "        self.color = 'blue'\n",
        "\n",
        "def start(world):\n",
        "    setBackground('black')\n",
        "    hideMouse()\n",
        "    # Create list with 30 circles\n",
        "    world.circles = [Circle() for _ in range(30)]\n",
        "\n",
        "def update(world):\n",
        "    pass\n",
        "\n",
        "def draw(world):\n",
        "    (x, y) = getMousePosition()\n",
        "    fillCircle(x, y, 10, 'white')\n",
        "\n",
        "makeGraphicsWindow(WIDTH, HEIGHT, False)\n",
        "runGraphics(start, update, draw)\n",
        "```"
      ]
    },
    {
      "cell_type": "markdown",
      "metadata": {
        "id": "AzSTFkyRdBhV"
      },
      "source": [
        "However, we haven't drawn the enemies. Let's draw them! To do so we add a for loop in the the `draw(world)` function which calls `draw` for each of the circles:"
      ]
    },
    {
      "cell_type": "markdown",
      "metadata": {
        "id": "TChTyF1fLjn_"
      },
      "source": [
        "```python\n",
        "from graphics import *\n",
        "import random\n",
        "\n",
        "WIDTH = 800\n",
        "HEIGHT = 600\n",
        "\n",
        "class Circle:\n",
        "    \n",
        "    def __init__(self):\n",
        "        self.x = random.randint(0, WIDTH)\n",
        "        self.y = random.randint(0, HEIGHT)\n",
        "        self.size = 2\n",
        "        self.color = 'blue'\n",
        "    \n",
        "    def draw(self):\n",
        "        fillCircle(self.x, self.y, self.size, self.color)\n",
        "\n",
        "def start(world):\n",
        "    setBackground('black')\n",
        "    hideMouse()\n",
        "    world.circles = [Circle() for _ in range(30)]\n",
        "\n",
        "def update(world):\n",
        "    pass\n",
        "\n",
        "def draw(world):\n",
        "    # Draw the circles!\n",
        "    for circle in world.circles:\n",
        "        circle.draw()\n",
        "\n",
        "    # By placing this section afterward, the player is drawn last,\n",
        "    # which means it will not be covered by any other drawn objects.\n",
        "    (x, y) = getMousePosition()\n",
        "    fillCircle(x, y, 10, 'white')\n",
        "\n",
        "makeGraphicsWindow(WIDTH, HEIGHT, False)\n",
        "runGraphics(start, update, draw)\n",
        "```"
      ]
    },
    {
      "cell_type": "markdown",
      "metadata": {
        "id": "Opo7bvdx6Gpi"
      },
      "source": [
        "After drawing the enemies, we can run the cell below to see that we have added 30 randomly placed blue circles around the screen."
      ]
    },
    {
      "cell_type": "code",
      "execution_count": null,
      "metadata": {
        "id": "N_b057efdBPY"
      },
      "outputs": [],
      "source": [
        "writeAndRun(cell3, \"DrawEnemies.py\")"
      ]
    },
    {
      "cell_type": "markdown",
      "metadata": {
        "id": "3Z76tbs7u0u2"
      },
      "source": [
        "# Enemy Movement"
      ]
    },
    {
      "cell_type": "markdown",
      "metadata": {
        "id": "Y3AmFrzsvHQc"
      },
      "source": [
        "Now that we've created our enemies, we're going to make them move! In Circle Game, enemies should move in random directions with random velocities.\n",
        "\n",
        "Let's add velocity variables `self.dx` and `self.dy`, and also add an `update` function in the `Circle` class.\n",
        "\n",
        "The function `random.uniform(a, b)` will generate a random real number between `a` and `b`. This can help us out!\n",
        "\n",
        "We edit `random.uniform(-2, 2)` to `random.uniform(-1, 1) * 2` since it makes changing `2` easier in the future."
      ]
    },
    {
      "cell_type": "markdown",
      "metadata": {
        "id": "edz5DiZGL7n6"
      },
      "source": [
        "```python\n",
        "class Circle:\n",
        "    \n",
        "    def __init__(self):\n",
        "        self.x = random.randint(0, WIDTH)\n",
        "        self.y = random.randint(0, HEIGHT)\n",
        "        # Initialize velocity here!\n",
        "        self.dx = random.uniform(-1, 1) * 2\n",
        "        self.dy = random.uniform(-1, 1) * 2\n",
        "        self.size = 2\n",
        "        self.color = 'blue'\n",
        "    \n",
        "    def update(self):\n",
        "        # Change x position by self.dx pixels\n",
        "        self.x += self.dx\n",
        "        # Change y position by self.dy pixels\n",
        "        self.y += self.dy\n",
        "\n",
        "    def draw(self):\n",
        "        fillCircle(self.x, self.y, self.size, self.color)\n",
        "```"
      ]
    },
    {
      "cell_type": "markdown",
      "metadata": {
        "id": "4qP7ilZRKyFB"
      },
      "source": [
        "Additionally, we need to call the `circle.update()` function in the `update(world)` function:"
      ]
    },
    {
      "cell_type": "markdown",
      "metadata": {
        "id": "yxJk30iPL_Vr"
      },
      "source": [
        "```python\n",
        "def update(world):\n",
        "    for circle in world.circles:\n",
        "        circle.update()\n",
        "```"
      ]
    },
    {
      "cell_type": "markdown",
      "metadata": {
        "id": "Lfd80RIfo1sO"
      },
      "source": [
        "If we were to run the program now, the enemies will move! Except once they reach the edge of the screen, they will disappear forever. Let's fix this by making the enemies wrap around the screen.\n",
        "\n",
        "We want the circles to only wrap once they are completely gone from the screen, so we add a condition where position must be either less than `-self.size * 2` (the diameter of the circle) or greater than (for the horizontal case) `WIDTH + self.size * 2`.\n",
        "<!--Note that we only need the circle center to be a radius past a screen border to be fully hidden, but later on when we set their start positions to be on the wrap boundaries, the extra distance each circle has to travel, combined with the differing velocities, will make it so all the circles don't show up on the screen at once.-->\n",
        "\n",
        "Adding the following lines to the `Circle.update` function manages this."
      ]
    },
    {
      "cell_type": "markdown",
      "metadata": {
        "id": "qtHDOUbXMECO"
      },
      "source": [
        "```python\n",
        "def update(self):\n",
        "    self.x += self.dx\n",
        "    self.y += self.dy\n",
        "    # Handle wrapping\n",
        "    wrapWidth = WIDTH + self.size * 4\n",
        "    wrapHeight = HEIGHT + self.size * 4\n",
        "    if self.x < -self.size * 2:\n",
        "        self.x += wrapWidth\n",
        "    elif self.x > WIDTH + self.size * 2:\n",
        "        self.x -= wrapWidth\n",
        "    if self.y < -self.size * 2:\n",
        "        self.y += wrapHeight\n",
        "    elif self.y > HEIGHT + self.size * 2:\n",
        "        self.y -= wrapHeight\n",
        "\n",
        "    # If you'd like to do this more concisely, here is some code that does the exact same thing!\n",
        "    # self.x = (self.x + self.dx + self.size * 2) % (WIDTH + self.size * 4) - self.size * 2\n",
        "    # self.y = (self.y + self.dy + self.size * 2) % (HEIGHT + self.size * 4) - self.size * 2\n",
        "```"
      ]
    },
    {
      "cell_type": "markdown",
      "metadata": {
        "id": "drPx6LKeX8n6"
      },
      "source": [
        "```python\n",
        "from graphics import *\n",
        "import random\n",
        "\n",
        "WIDTH = 800\n",
        "HEIGHT = 600\n",
        "\n",
        "class Circle:    \n",
        "    def __init__(self):\n",
        "        self.x = random.randint(0, WIDTH)\n",
        "        self.y = random.randint(0, HEIGHT)\n",
        "        self.dx = random.uniform(-1, 1) * 2\n",
        "        self.dy = random.uniform(-1, 1) * 2\n",
        "        self.size = 2\n",
        "        self.color = 'blue'\n",
        "    \n",
        "    def update(self):\n",
        "        self.x += self.dx\n",
        "        self.y += self.dy\n",
        "        wrapWidth = WIDTH + self.size * 4\n",
        "        wrapHeight = HEIGHT + self.size * 4\n",
        "        if self.x < -self.size * 2:\n",
        "            self.x += wrapWidth\n",
        "        elif self.x > WIDTH + self.size * 2:\n",
        "            self.x -= wrapWidth\n",
        "        if self.y < -self.size * 2:\n",
        "            self.y += wrapHeight\n",
        "        elif self.y > HEIGHT + self.size * 2:\n",
        "            self.y -= wrapHeight\n",
        "    \n",
        "    def draw(self):\n",
        "        fillCircle(self.x, self.y, self.size, self.color)\n",
        "\n",
        "def start(world):\n",
        "    setBackground('black')\n",
        "    hideMouse()\n",
        "    world.circles = [Circle() for _ in range(30)]\n",
        "\n",
        "def update(world):\n",
        "    for circle in world.circles:\n",
        "        circle.update()\n",
        "\n",
        "def draw(world):\n",
        "    for circle in world.circles:\n",
        "        circle.draw()\n",
        "\n",
        "    (x, y) = getMousePosition()\n",
        "    fillCircle(x, y, world.size, 'white')\n",
        "\n",
        "makeGraphicsWindow(WIDTH, HEIGHT, False)\n",
        "runGraphics(start, update, draw)\n",
        "```"
      ]
    },
    {
      "cell_type": "markdown",
      "metadata": {
        "id": "32pWwZTLBAYV"
      },
      "source": [
        "With this logic, our enemies now move around the screen appropriately, including wrapping around once they reach the end, as can be seen when running the cell below."
      ]
    },
    {
      "cell_type": "code",
      "execution_count": null,
      "metadata": {
        "id": "AvM1UzBYIeay"
      },
      "outputs": [],
      "source": [
        "writeAndRun(cell4, \"AddEnemyMovement.py\")"
      ]
    },
    {
      "cell_type": "markdown",
      "metadata": {
        "id": "gacSdev9u92V"
      },
      "source": [
        "# Enemy Attributes"
      ]
    },
    {
      "cell_type": "markdown",
      "metadata": {
        "id": "_SieUuteL_h5"
      },
      "source": [
        "We can add some constants at the top of the file for size and colors so we can make a variety of enemy circles, not just uniformly sized blue ones. To do so, we define the following constants at the top of the file just below the constants we defined for `WIDTH` and `HEIGHT`:\n",
        "\n",
        "`CIRCLE_START_SIZE` - initial value for circle size. We also add the class static variable `SIZE` which will increase with every initialized circle.\n",
        "\n",
        "`COLORS` - a set of RGB values that the enemy can be drawn in.\n",
        "\n",
        "`MAX_V` - the maximum horizontal / vertical velocity of a circle."
      ]
    },
    {
      "cell_type": "markdown",
      "metadata": {
        "id": "YT_T-MoSMOf_"
      },
      "source": [
        "```python\n",
        "CIRCLE_START_SIZE = 2\n",
        "COLORS = [\n",
        "    (255, 255, 0), (255, 0, 255), (0, 255, 255),\n",
        "    (255, 0, 0), (0, 255, 0), (0, 0, 255)\n",
        "]\n",
        "MAX_V = 2\n",
        "\n",
        "\n",
        "class Circle:\n",
        "\n",
        "    SIZE = CIRCLE_START_SIZE\n",
        "\n",
        "    def __init__(self):\n",
        "        self.x = random.randint(0, WIDTH)\n",
        "        self.y = random.randint(0, HEIGHT)\n",
        "        self.dx = random.uniform(-1, 1) * MAX_V\n",
        "        self.dy = random.uniform(-1, 1) * MAX_V\n",
        "        # Edited size to be non constant.\n",
        "        self.size = Circle.SIZE\n",
        "        # Random color from above list!\n",
        "        self.color = COLORS[random.randint(0, len(COLORS) - 1)]\n",
        "        # Increases the size of next circle initialized!\n",
        "        Circle.SIZE += 1\n",
        "```"
      ]
    },
    {
      "cell_type": "markdown",
      "metadata": {
        "id": "5VuLL8fhxHPn"
      },
      "source": [
        "Now that our enemies' movements look and behave as they should, we will make them spawn on the edges of the screen. This will be useful for the start of the game so that we do not immediately lose and so we can have sufficient time to react to the oncoming enemies. To do this, we will modify the code for computing `self.x` and `self.y` in the `__init__` function. "
      ]
    },
    {
      "cell_type": "markdown",
      "metadata": {
        "id": "-lt3j1h-MTSy"
      },
      "source": [
        "```python\n",
        "def __init__(self):\n",
        "    # Pick a side\n",
        "    side = random.randint(1, 4)\n",
        "    # Defining the bounds\n",
        "    leftBound = -2 * Circle.SIZE\n",
        "    rightBound = WIDTH + 2 * Circle.SIZE\n",
        "    topBound = -2 * Circle.SIZE\n",
        "    bottomBound = HEIGHT + 2 * Circle.SIZE\n",
        "    # Casework!\n",
        "    if side == 1:\n",
        "        self.x = random.uniform(leftBound, rightBound)\n",
        "        self.y = topBound\n",
        "    elif side == 2:\n",
        "        self.x = leftBound\n",
        "        self.y = random.uniform(topBound, bottomBound)\n",
        "    elif side == 3:\n",
        "        self.x = random.uniform(leftBound, rightBound)\n",
        "        self.y = bottomBound\n",
        "    elif side == 4:\n",
        "        self.x = rightBound\n",
        "        self.y = random.uniform(topBound, bottomBound)\n",
        "\n",
        "    # Here are 4 lines that accomplish the same thing:\n",
        "    # rx = random.uniform(0, 4)\n",
        "    # ry = (rx + 1) % 4\n",
        "    # self.x = min(max(abs(2 - rx) - 0.5, 0), 1) * (WIDTH + 4 * Circle.SIZE) - 2 * Circle.SIZE\n",
        "    # self.y = min(max(abs(2 - ry) - 0.5, 0), 1) * (HEIGHT + 4 * Circle.SIZE) - 2 * Circle.SIZE\n",
        "\n",
        "    self.dx = random.uniform(-1, 1) * MAX_V\n",
        "    self.dy = random.uniform(-1, 1) * MAX_V\n",
        "    self.size = Circle.SIZE\n",
        "    self.color = COLORS[random.randint(0, len(COLORS) - 1)]\n",
        "    Circle.SIZE += 1\n",
        "```"
      ]
    },
    {
      "cell_type": "markdown",
      "metadata": {
        "id": "TZM950YoXTnI"
      },
      "source": [
        "```python\n",
        "from graphics import *\n",
        "import random\n",
        "\n",
        "WIDTH = 800\n",
        "HEIGHT = 600\n",
        "\n",
        "CIRCLE_START_SIZE = 2\n",
        "MAX_V = 2\n",
        "\n",
        "COLORS = [\n",
        "    (255, 255, 0), (255, 0, 255), (0, 255, 255),\n",
        "    (255, 0, 0), (0, 255, 0), (0, 0, 255)\n",
        "]\n",
        "\n",
        "class Circle:\n",
        "    \n",
        "    SIZE = CIRCLE_START_SIZE\n",
        "    \n",
        "    def __init__(self):\n",
        "        side = random.randint(1, 4)\n",
        "        leftBound = -2 * Circle.SIZE\n",
        "        rightBound = WIDTH + 2 * Circle.SIZE\n",
        "        topBound = -2 * Circle.SIZE\n",
        "        bottomBound = HEIGHT + 2 * Circle.SIZE\n",
        "        if side == 1:\n",
        "            self.x = random.uniform(leftBound, rightBound)\n",
        "            self.y = topBound\n",
        "        elif side == 2:\n",
        "            self.x = leftBound\n",
        "            self.y = random.uniform(topBound, bottomBound)\n",
        "        elif side == 3:\n",
        "            self.x = random.uniform(leftBound, rightBound)\n",
        "            self.y = bottomBound\n",
        "        elif side == 4:\n",
        "            self.x = rightBound\n",
        "            self.y = random.uniform(topBound, bottomBound)\n",
        "\n",
        "        self.dx = random.uniform(-1, 1) * MAX_V\n",
        "        self.dy = random.uniform(-1, 1) * MAX_V\n",
        "        self.size = Circle.SIZE\n",
        "        self.color = COLORS[random.randint(0, len(COLORS) - 1)]\n",
        "        Circle.SIZE += 1\n",
        "    \n",
        "    def update(self):\n",
        "        self.x += self.dx\n",
        "        self.y += self.dy\n",
        "        wrapWidth = WIDTH + self.size * 4\n",
        "        wrapHeight = HEIGHT + self.size * 4\n",
        "        if self.x < -self.size * 2:\n",
        "            self.x += wrapWidth\n",
        "        elif self.x > WIDTH + self.size * 2:\n",
        "            self.x -= wrapWidth\n",
        "        if self.y < -self.size * 2:\n",
        "            self.y += wrapHeight\n",
        "        elif self.y > HEIGHT + self.size * 2:\n",
        "            self.y -= wrapHeight\n",
        "    \n",
        "    def draw(self):\n",
        "        fillCircle(self.x, self.y, self.size, self.color)\n",
        "\n",
        "def start(world):\n",
        "    setBackground('black')\n",
        "    hideMouse()\n",
        "    world.circles = [Circle() for _ in range(30)]\n",
        "\n",
        "def update(world):\n",
        "    for circle in world.circles:\n",
        "        circle.update()\n",
        "\n",
        "def draw(world):\n",
        "    for circle in world.circles:\n",
        "        circle.draw()\n",
        "\n",
        "    (x, y) = getMousePosition()\n",
        "    fillCircle(x, y, world.size, 'white')\n",
        "\n",
        "makeGraphicsWindow(WIDTH, HEIGHT, False)\n",
        "runGraphics(start, update, draw)\n",
        "```"
      ]
    },
    {
      "cell_type": "markdown",
      "metadata": {
        "id": "VCGQ2-n_CjkP"
      },
      "source": [
        "If you run the cell below, you will see our game looks almost complete! The enemies are random sizes and colors, they start on the edge of the screen, and move across it correctly."
      ]
    },
    {
      "cell_type": "code",
      "execution_count": null,
      "metadata": {
        "id": "BMmMRUz4Ieay"
      },
      "outputs": [],
      "source": [
        "writeAndRun(cell5, \"AddEnemyAttributes.py\")"
      ]
    },
    {
      "cell_type": "markdown",
      "metadata": {
        "id": "G6mpl3syuGY4"
      },
      "source": [
        "# Player Interactions"
      ]
    },
    {
      "cell_type": "markdown",
      "metadata": {
        "id": "AJ8yTvMHEjl2"
      },
      "source": [
        "Now that we have circle movement down, we can add code for player interaction with circles! Let's edit the `update` function in the `Circle` class to detect a intersection between a circle and the player, a.k.a. \"eating\" a circle.\n",
        "\n",
        "To determine if two circles intersect, we can use the distance formula to compute the distance between their two centers. If this is less than the sum of the two radii of the circles, we know the circles intersect. Otherwise, the circles are too far away to intersect.\n",
        "\n",
        "The distance formula between two points `(x1, y1), (x2, y2)` is:\n",
        "\n",
        "`distance = sqrt((x2 - x1)**2 + (y2 - y1)**2)`\n",
        "\n",
        "Observe that if `distance < radii_sum`, then `distance**2 < radii_sum**2` as well, since all quantities are positive. This lets us square both sides of the equation, which makes things nicer to write and also slightly less computationally expensive."
      ]
    },
    {
      "cell_type": "markdown",
      "metadata": {
        "id": "IFJ6_mJvMZel"
      },
      "source": [
        "```python\n",
        "# New arguments:\n",
        "# x - Circle x position\n",
        "# y - Circle y position\n",
        "# r - Circle radius.\n",
        "def update(self, x, y, r):\n",
        "    self.x += self.dx\n",
        "    self.y += self.dy\n",
        "    wrapWidth = WIDTH + self.size * 4\n",
        "    wrapHeight = HEIGHT + self.size * 4\n",
        "    if self.x < -self.size * 2:\n",
        "        self.x += wrapWidth\n",
        "    elif self.x > WIDTH + self.size * 2:\n",
        "        self.x -= wrapWidth\n",
        "    if self.y < -self.size * 2:\n",
        "        self.y += wrapHeight\n",
        "    elif self.y > HEIGHT + self.size * 2:\n",
        "        self.y -= wrapHeight\n",
        "\n",
        "    # See if the distance between the centers is less than the sum of the radii\n",
        "    if (self.x - x)**2 + (self.y - y)**2 <= (r + self.size)**2:\n",
        "        pass # Do something here!\n",
        "```"
      ]
    },
    {
      "cell_type": "markdown",
      "metadata": {
        "id": "3uqG1bmmKZ6A"
      },
      "source": [
        "Now we have the code to detect a collision, we should pass on information that determines whether the circle and player should continue to survive. We store this in `self.active`, and return `False` if the player should no longer be alive. We also add the line `self.active = True` in the `__init__` function of the `Circle` class to initialize the variable to represent the circle starts active."
      ]
    },
    {
      "cell_type": "markdown",
      "metadata": {
        "id": "dBz7g-IXyNQN"
      },
      "source": [
        "```python\n",
        "def __init__(self):\n",
        "    side = random.randint(1, 4)\n",
        "    leftBound = -2 * Circle.SIZE\n",
        "    rightBound = WIDTH + 2 * Circle.SIZE\n",
        "    topBound = -2 * Circle.SIZE\n",
        "    bottomBound = HEIGHT + 2 * Circle.SIZE\n",
        "    if side == 1:\n",
        "        self.x = random.uniform(leftBound, rightBound)\n",
        "        self.y = topBound\n",
        "    elif side == 2:\n",
        "        self.x = leftBound\n",
        "        self.y = random.uniform(topBound, bottomBound)\n",
        "    elif side == 3:\n",
        "        self.x = random.uniform(leftBound, rightBound)\n",
        "        self.y = bottomBound\n",
        "    elif side == 4:\n",
        "        self.x = rightBound\n",
        "        self.y = random.uniform(topBound, bottomBound)\n",
        "\n",
        "    self.dx = random.uniform(-1, 1) * MAX_V\n",
        "    self.dy = random.uniform(-1, 1) * MAX_V\n",
        "    self.size = Circle.SIZE\n",
        "    self.color = COLORS[random.randint(0, len(COLORS) - 1)]\n",
        "    # Initialize self.active\n",
        "    self.active = True\n",
        "    Circle.SIZE += 1\n",
        "```"
      ]
    },
    {
      "cell_type": "markdown",
      "metadata": {
        "id": "DTwL5n9YMe34"
      },
      "source": [
        "```python\n",
        "# Now returns whether the player is alive.\n",
        "def update(self, x, y, r):\n",
        "    self.x += self.dx\n",
        "    self.y += self.dy\n",
        "    wrapWidth = WIDTH + self.size * 4\n",
        "    wrapHeight = HEIGHT + self.size * 4\n",
        "    if self.x < -self.size * 2:\n",
        "        self.x += wrapWidth\n",
        "    elif self.x > WIDTH + self.size * 2:\n",
        "        self.x -= wrapWidth\n",
        "    if self.y < -self.size * 2:\n",
        "        self.y += wrapHeight\n",
        "    elif self.y > HEIGHT + self.size * 2:\n",
        "        self.y -= wrapHeight\n",
        "\n",
        "    if (self.x - x)**2 + (self.y - y)**2 <= (r + self.size)**2:\n",
        "        # Circle is inactive if its radius is smaller than player radius.\n",
        "        if self.size < r:\n",
        "            self.active = False\n",
        "        # If the radius is larger than the player, the player loses!\n",
        "        if self.size > r:\n",
        "            return False\n",
        "    # The player did not die, so return that.\n",
        "    return True\n",
        "```"
      ]
    },
    {
      "cell_type": "markdown",
      "metadata": {
        "id": "C0JWbpyLK6-M"
      },
      "source": [
        "Since we edited the code for updating circles, we need to update the code in the `update` function to accept the correct parameters. To do so, we'll declare a constant `START_SIZE` which is set to 10 at the top of the file, alongside the `CIRCLE_START_SIZE` which will allow us to control the player's starting size. Then we'll use this as the third paramter for our call to `circle.update()`. We will also remove inactive circles."
      ]
    },
    {
      "cell_type": "markdown",
      "metadata": {
        "id": "mxH-_vRJMioh"
      },
      "source": [
        "```python\n",
        "START_SIZE = 10\n",
        "```"
      ]
    },
    {
      "cell_type": "markdown",
      "metadata": {
        "id": "Zagn-_54Mm3G"
      },
      "source": [
        "```python\n",
        "def start(world):\n",
        "    setBackground('black')\n",
        "    hideMouse()\n",
        "    world.circles = [Circle() for _ in range(30)]\n",
        "    # START_SIZE used here\n",
        "    world.size = START_SIZE\n",
        "\n",
        "def update(world):\n",
        "    # Get the mouse position, which is also the player position\n",
        "    (x, y) = getMousePosition()\n",
        "    for circle in world.circles:\n",
        "        # Pass the arguments to the update function\n",
        "        circle.update(x, y, world.size)\n",
        "    \n",
        "    # Remove inactive circles\n",
        "    world.circles = [circle for circle in world.circles if circle.active]\n",
        "\n",
        "def draw(world):\n",
        "    for circle in world.circles:\n",
        "        circle.draw()\n",
        "\n",
        "    (x, y) = getMousePosition()\n",
        "    # Replace the circle size with the world.size\n",
        "    fillCircle(x, y, world.size, 'white')\n",
        "```"
      ]
    },
    {
      "cell_type": "markdown",
      "metadata": {
        "id": "rWH7F4puOSnz"
      },
      "source": [
        "Then we need to track the status of the player and update its size, so we add an attribute for if the player is alive, `world.alive`, and increment `world.size` each time we \"eat\" an enemy."
      ]
    },
    {
      "cell_type": "markdown",
      "metadata": {
        "id": "NMOMdVFzMq7Q"
      },
      "source": [
        "```python\n",
        "def start(world):\n",
        "    setBackground('black')\n",
        "    hideMouse()\n",
        "    world.circles = [Circle() for _ in range(30)]\n",
        "    world.size = START_SIZE\n",
        "    # The player starts alive! We hope.\n",
        "    world.alive = True\n",
        "    \n",
        "def update(world):\n",
        "    (x, y) = getMousePosition()\n",
        "    for circle in world.circles:\n",
        "        # Update world.alive\n",
        "        world.alive = circle.update(x, y, world.size) and world.alive\n",
        "        if world.alive and not circle.active:\n",
        "            # Update world.size\n",
        "            world.size += 1\n",
        "    \n",
        "    # Now, circles should only be removed if the player is alive\n",
        "    if world.alive:\n",
        "        world.circles = [circle for circle in world.circles if circle.active]\n",
        "```"
      ]
    },
    {
      "cell_type": "markdown",
      "metadata": {
        "id": "kG-xKG-BPUYI"
      },
      "source": [
        "Finally, we should refill the circles list whenever it is not full. We declare another constant at the top of the file named `MAX_ACTIVE` which is set to 30 and represents however many circles you want active at once:\n"
      ]
    },
    {
      "cell_type": "markdown",
      "metadata": {
        "id": "Cz6kFEKhMvdn"
      },
      "source": [
        "```python\n",
        "MAX_ACTIVE = 30\n",
        "```"
      ]
    },
    {
      "cell_type": "markdown",
      "metadata": {
        "id": "JoJY08COZVCP"
      },
      "source": [
        "At the top of the `update(world)` function we insert the following for loop, which adds the appropriate number of circles. Before the loop is ran, there are `len(world.circles)` circles, and by adding `MAX_ACTIVE - len(world.circles)` new circles, we obtain a total of `MAX_ACTIVE` circles, guaranteeing a constant number of active circles after the loop. "
      ]
    },
    {
      "cell_type": "markdown",
      "metadata": {
        "id": "OkUiBLmVM0hC"
      },
      "source": [
        "```python\n",
        "def update(world):\n",
        "    # Adds the appropriate number of circles.\n",
        "    for _ in range(MAX_ACTIVE - len(world.circles)):\n",
        "        world.circles.append(Circle())\n",
        "```"
      ]
    },
    {
      "cell_type": "markdown",
      "metadata": {
        "id": "MxBy-7RnZckW"
      },
      "source": [
        "And lastly in `start(world)` we no longer need to initialize `world.circles` as the list of circles but instead as an empty list as we will add to it later when we update and add enough circles to match our `MAX_ACTIVE` value:"
      ]
    },
    {
      "cell_type": "markdown",
      "metadata": {
        "id": "mP90yA7_M4sf"
      },
      "source": [
        "```python\n",
        "def start(world):\n",
        "    setBackground('black')\n",
        "    hideMouse()\n",
        "    # Change initial value here\n",
        "    world.circles = []\n",
        "    world.size = START_SIZE\n",
        "    world.alive = True\n",
        "```"
      ]
    },
    {
      "cell_type": "markdown",
      "metadata": {
        "id": "lZwNekO-aL_h"
      },
      "source": [
        "Here is the code now after these changes:"
      ]
    },
    {
      "cell_type": "markdown",
      "metadata": {
        "id": "dieLPwEmNaOd"
      },
      "source": [
        "```python\n",
        "from graphics import *\n",
        "import random\n",
        "\n",
        "WIDTH = 800\n",
        "HEIGHT = 600\n",
        "\n",
        "START_SIZE = 10\n",
        "CIRCLE_START_SIZE = 2\n",
        "MAX_ACTIVE = 30\n",
        "MAX_V = 2\n",
        "\n",
        "COLORS = [\n",
        "    (255, 255, 0), (255, 0, 255), (0, 255, 255),\n",
        "    (255, 0, 0), (0, 255, 0), (0, 0, 255)\n",
        "]\n",
        "\n",
        "class Circle:\n",
        "    \n",
        "    SIZE = CIRCLE_START_SIZE\n",
        "    \n",
        "    def __init__(self):\n",
        "        side = random.randint(1, 4)\n",
        "        leftBound = -2 * Circle.SIZE\n",
        "        rightBound = WIDTH + 2 * Circle.SIZE\n",
        "        topBound = -2 * Circle.SIZE\n",
        "        bottomBound = HEIGHT + 2 * Circle.SIZE\n",
        "        if side == 1:\n",
        "            self.x = random.uniform(leftBound, rightBound)\n",
        "            self.y = topBound\n",
        "        elif side == 2:\n",
        "            self.x = leftBound\n",
        "            self.y = random.uniform(topBound, bottomBound)\n",
        "        elif side == 3:\n",
        "            self.x = random.uniform(leftBound, rightBound)\n",
        "            self.y = bottomBound\n",
        "        elif side == 4:\n",
        "            self.x = rightBound\n",
        "            self.y = random.uniform(topBound, bottomBound)\n",
        "\n",
        "        self.dx = random.uniform(-1, 1) * MAX_V\n",
        "        self.dy = random.uniform(-1, 1) * MAX_V\n",
        "        self.size = Circle.SIZE\n",
        "        self.color = COLORS[random.randint(0, len(COLORS) - 1)]\n",
        "        self.active = True\n",
        "        Circle.SIZE += 1\n",
        "    \n",
        "    def update(self, x, y, r):\n",
        "        self.x += self.dx\n",
        "        self.y += self.dy\n",
        "        wrapWidth = WIDTH + self.size * 4\n",
        "        wrapHeight = HEIGHT + self.size * 4\n",
        "        if self.x < -self.size * 2:\n",
        "            self.x += wrapWidth\n",
        "        elif self.x > WIDTH + self.size * 2:\n",
        "            self.x -= wrapWidth\n",
        "        if self.y < -self.size * 2:\n",
        "            self.y += wrapHeight\n",
        "        elif self.y > HEIGHT + self.size * 2:\n",
        "            self.y -= wrapHeight\n",
        "\n",
        "        if (self.x - x)**2 + (self.y - y)**2 <= (r + self.size)**2:\n",
        "            if self.size < r:\n",
        "                self.active = False\n",
        "            if self.size > r:\n",
        "                return False\n",
        "        return True\n",
        "\n",
        "    def draw(self):\n",
        "        fillCircle(self.x, self.y, self.size, self.color)\n",
        "\n",
        "def start(world):\n",
        "    setBackground('black')\n",
        "    hideMouse()\n",
        "    world.circles = []\n",
        "    world.size = START_SIZE\n",
        "    world.alive = True\n",
        "\n",
        "def update(world):\n",
        "    for _ in range(MAX_ACTIVE - len(world.circles)):\n",
        "        world.circles.append(Circle())\n",
        "    \n",
        "    (x, y) = getMousePosition()\n",
        "    for circle in world.circles:\n",
        "        world.alive = circle.update(x, y, world.size) and world.alive\n",
        "        if world.alive and not circle.active:\n",
        "            world.size += 1\n",
        "    \n",
        "    if world.alive:\n",
        "        world.circles = [circle for circle in world.circles if circle.active]\n",
        "\n",
        "def draw(world):\n",
        "    for circle in world.circles:\n",
        "        circle.draw()\n",
        "\n",
        "    (x, y) = getMousePosition()\n",
        "    fillCircle(x, y, world.size, 'white')\n",
        "\n",
        "makeGraphicsWindow(WIDTH, HEIGHT, False)\n",
        "runGraphics(start, update, draw)\n",
        "```"
      ]
    },
    {
      "cell_type": "markdown",
      "metadata": {
        "id": "6L77_d73EcmD"
      },
      "source": [
        "You can run the cell below to play the game and eat as many smaller circles as possible while avoiding the bigger ones to stay alive. \n",
        "\n",
        "However, you might notice that when you get eaten by a bigger circle, i.e. making the `world.alive` attribute `False`, you get to keep moving your player around as though the game is still going but you can't interact with the enemies anymore. This is because it is not yet clear that the game is over which we'll be working on in the next step!"
      ]
    },
    {
      "cell_type": "code",
      "execution_count": null,
      "metadata": {
        "id": "UKs7CdYPIea0"
      },
      "outputs": [],
      "source": [
        "writeAndRun(cell6, \"AddPlayerInteractions.py\")"
      ]
    },
    {
      "cell_type": "markdown",
      "metadata": {
        "id": "NZ36wfidts3H"
      },
      "source": [
        "# Game Over + Restarting"
      ]
    },
    {
      "cell_type": "markdown",
      "metadata": {
        "id": "G6uEgtYYdsYp"
      },
      "source": [
        "The final addition is a Game Over message, along with the ability to restart the game without having to relauch the program.\n",
        "\n",
        "First, let's only draw the player if it is alive. We do this in the `draw(world)` function."
      ]
    },
    {
      "cell_type": "markdown",
      "metadata": {
        "id": "5jM0bTqvM_6N"
      },
      "source": [
        "```python\n",
        "def draw(world):\n",
        "    for circle in world.circles:\n",
        "        circle.draw()\n",
        "    \n",
        "    # Only draw the player if it is alive\n",
        "    if world.alive:\n",
        "        (x, y) = getMousePosition()\n",
        "        fillCircle(x, y, world.size, 'white')\n",
        "    else:\n",
        "        pass # The player isn't alive here!\n",
        "```"
      ]
    },
    {
      "cell_type": "markdown",
      "metadata": {
        "id": "BDnav8o_e0S8"
      },
      "source": [
        "Next, let's add the Game Over message. We will use the `sizeString` and `drawString` functions in `draw(world)` to position and draw the message."
      ]
    },
    {
      "cell_type": "markdown",
      "metadata": {
        "id": "ffzbBnEXNEM8"
      },
      "source": [
        "```python\n",
        "def draw(world):\n",
        "    for circle in world.circles:\n",
        "        circle.draw()\n",
        "    \n",
        "    if world.alive:\n",
        "        (x, y) = getMousePosition()\n",
        "        fillCircle(x, y, world.size, 'white')\n",
        "    else:\n",
        "        # Game over text\n",
        "        (text1, size1) = (\"Game Over!\", 60)\n",
        "        ss = sizeString(text1, size1)\n",
        "        drawString(text1, WIDTH/2 - ss[0]/2, HEIGHT/2 - ss[1] - 10, size1, 'white')\n",
        "        # Score text\n",
        "        (text2, size2) = (f\"Score: {(world.size - START_SIZE)}\", 40)\n",
        "        ss = sizeString(text2, size2)\n",
        "        drawString(text2, WIDTH/2 - ss[0]/2, HEIGHT/2 + 10, size2, 'white')\n",
        "```"
      ]
    },
    {
      "cell_type": "markdown",
      "metadata": {
        "id": "fr9acCYkgYwV"
      },
      "source": [
        "Finally, in `update`, we add the ability for the player to restart when pressing `space`. We use the `isKeyPressed` function to detect the keypress.\n",
        "\n",
        "To reset the game state, we need to clear the circles, reset the size of the player and the circles, and make the player alive again."
      ]
    },
    {
      "cell_type": "markdown",
      "metadata": {
        "id": "joptJq81NHjh"
      },
      "source": [
        "```python\n",
        "def update(world):\n",
        "    for _ in range(MAX_ACTIVE - len(world.circles)):\n",
        "        world.circles.append(Circle())\n",
        "\n",
        "    (x, y) = getMousePosition()\n",
        "    for circle in world.circles:\n",
        "        world.alive = circle.update(x, y, world.size) and world.alive\n",
        "        if world.alive and not circle.active:\n",
        "            world.size += 1\n",
        "    \n",
        "    if world.alive:\n",
        "        world.circles = [circle for circle in world.circles if circle.active]\n",
        "    else:\n",
        "        # Restart if space is pressed\n",
        "        if isKeyPressed(\"space\"):\n",
        "            world.circles = []\n",
        "            world.size = START_SIZE\n",
        "            world.alive = True\n",
        "            Circle.SIZE = CIRCLE_START_SIZE\n",
        "```"
      ]
    },
    {
      "cell_type": "markdown",
      "metadata": {
        "id": "BAlrPnvqt0As"
      },
      "source": [
        "# Full Game"
      ]
    },
    {
      "cell_type": "markdown",
      "metadata": {
        "id": "5-wEC2bcqdm8"
      },
      "source": [
        "We have finished the game! Here is the entire code we have written:"
      ]
    },
    {
      "cell_type": "markdown",
      "metadata": {
        "id": "r_8C24zSNLdz"
      },
      "source": [
        "```python\n",
        "from graphics import *\n",
        "import random\n",
        "\n",
        "WIDTH = 800\n",
        "HEIGHT = 600\n",
        "\n",
        "START_SIZE = 10\n",
        "CIRCLE_START_SIZE = 2\n",
        "MAX_ACTIVE = 30\n",
        "MAX_V = 2\n",
        "\n",
        "COLORS = [\n",
        "    (255, 255, 0), (255, 0, 255), (0, 255, 255),\n",
        "    (255, 0, 0), (0, 255, 0), (0, 0, 255)\n",
        "]\n",
        "\n",
        "class Circle:\n",
        "    \n",
        "    SIZE = CIRCLE_START_SIZE\n",
        "    \n",
        "    def __init__(self):\n",
        "        side = random.randint(1, 4)\n",
        "        leftBound = -2 * Circle.SIZE\n",
        "        rightBound = WIDTH + 2 * Circle.SIZE\n",
        "        topBound = -2 * Circle.SIZE\n",
        "        bottomBound = HEIGHT + 2 * Circle.SIZE\n",
        "        if side == 1:\n",
        "            self.x = random.uniform(leftBound, rightBound)\n",
        "            self.y = topBound\n",
        "        elif side == 2:\n",
        "            self.x = leftBound\n",
        "            self.y = random.uniform(topBound, bottomBound)\n",
        "        elif side == 3:\n",
        "            self.x = random.uniform(leftBound, rightBound)\n",
        "            self.y = bottomBound\n",
        "        elif side == 4:\n",
        "            self.x = rightBound\n",
        "            self.y = random.uniform(topBound, bottomBound)\n",
        "\n",
        "        self.dx = random.uniform(-1, 1) * MAX_V\n",
        "        self.dy = random.uniform(-1, 1) * MAX_V\n",
        "        self.size = Circle.SIZE\n",
        "        self.color = COLORS[random.randint(0, len(COLORS) - 1)]\n",
        "        self.active = True\n",
        "        Circle.SIZE += 1\n",
        "    \n",
        "    def update(self, x, y, r):\n",
        "        self.x += self.dx\n",
        "        self.y += self.dy\n",
        "        wrapWidth = WIDTH + self.size * 4\n",
        "        wrapHeight = HEIGHT + self.size * 4\n",
        "        if self.x < -self.size * 2:\n",
        "            self.x += wrapWidth\n",
        "        elif self.x > WIDTH + self.size * 2:\n",
        "            self.x -= wrapWidth\n",
        "        if self.y < -self.size * 2:\n",
        "            self.y += wrapHeight\n",
        "        elif self.y > HEIGHT + self.size * 2:\n",
        "            self.y -= wrapHeight\n",
        "\n",
        "        if (self.x - x)**2 + (self.y - y)**2 <= (r + self.size)**2:\n",
        "            if self.size < r:\n",
        "                self.active = False\n",
        "            if self.size > r:\n",
        "                return False\n",
        "        return True\n",
        "\n",
        "    def draw(self):\n",
        "        fillCircle(self.x, self.y, self.size, self.color)\n",
        "\n",
        "def start(world):\n",
        "    setBackground('black')\n",
        "    hideMouse()\n",
        "    world.circles = []\n",
        "    world.size = START_SIZE\n",
        "    world.alive = True\n",
        "\n",
        "def update(world):\n",
        "    for _ in range(MAX_ACTIVE - len(world.circles)):\n",
        "        world.circles.append(Circle())\n",
        "    \n",
        "    (x, y) = getMousePosition()\n",
        "    for circle in world.circles:\n",
        "        world.alive = circle.update(x, y, world.size) and world.alive\n",
        "        if world.alive and not circle.active:\n",
        "            world.size += 1\n",
        "    \n",
        "    if world.alive:\n",
        "        world.circles = [circle for circle in world.circles if circle.active]\n",
        "    else:\n",
        "        if isKeyPressed(\"space\"):\n",
        "            world.circles = []\n",
        "            world.size = START_SIZE\n",
        "            world.alive = True\n",
        "            Circle.SIZE = CIRCLE_START_SIZE\n",
        "\n",
        "def draw(world):\n",
        "    for circle in world.circles:\n",
        "        circle.draw()\n",
        "    \n",
        "    if world.alive:\n",
        "        (x, y) = getMousePosition()\n",
        "        fillCircle(x, y, world.size, 'white')\n",
        "    else:\n",
        "        (text1, size1) = (\"Game Over!\", 60)\n",
        "        ss = sizeString(text1, size1)\n",
        "        drawString(text1, WIDTH/2 - ss[0]/2, HEIGHT/2 - ss[1] - 10, size1, 'white')\n",
        "        \n",
        "        (text2, size2) = (f\"Score: {(world.size - START_SIZE)}\", 40)\n",
        "        ss = sizeString(text2, size2)\n",
        "        drawString(text2, WIDTH/2 - ss[0]/2, HEIGHT/2 + 10, size2, 'white')\n",
        "\n",
        "makeGraphicsWindow(WIDTH, HEIGHT, False)\n",
        "runGraphics(start, update, draw)\n",
        "```"
      ]
    },
    {
      "cell_type": "markdown",
      "metadata": {
        "id": "2XwSJ1TWE6_R"
      },
      "source": [
        "You can run the full game thus far by running the cell below! We hope you enjoy playing Circle Game!"
      ]
    },
    {
      "cell_type": "code",
      "execution_count": null,
      "metadata": {
        "id": "ETMynplSIea0"
      },
      "outputs": [],
      "source": [
        "writeAndRun(cell7, \"FullGame.py\")"
      ]
    },
    {
      "cell_type": "markdown",
      "metadata": {
        "id": "RX5ptOBZIea0"
      },
      "source": [
        "You can also look at the local files where this Jupyter Notebook is located to view each step of this tutorial!\n",
        "Thank you so much!"
      ]
    }
  ],
  "metadata": {
    "colab": {
      "provenance": []
    },
    "kernelspec": {
      "display_name": "Python 3",
      "language": "python",
      "name": "python3"
    },
    "language_info": {
      "codemirror_mode": {
        "name": "ipython",
        "version": 3
      },
      "file_extension": ".py",
      "mimetype": "text/x-python",
      "name": "python",
      "nbconvert_exporter": "python",
      "pygments_lexer": "ipython3",
      "version": "3.8.5"
    }
  },
  "nbformat": 4,
  "nbformat_minor": 0
}